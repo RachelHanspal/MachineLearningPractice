{
 "cells": [
  {
   "cell_type": "code",
   "execution_count": 2,
   "metadata": {
    "id": "U7KQxcNFfT2X"
   },
   "outputs": [],
   "source": [
    "import tensorflow as tf\n",
    "from tensorflow import keras\n",
    "from keras.datasets import cifar10"
   ]
  },
  {
   "cell_type": "code",
   "execution_count": 3,
   "metadata": {
    "id": "xXbjSWMtfhh6"
   },
   "outputs": [],
   "source": [
    "import numpy as np\n",
    "(X_train, y_train), (X_test, y_test) = cifar10.load_data()"
   ]
  },
  {
   "cell_type": "code",
   "execution_count": 4,
   "metadata": {
    "colab": {
     "base_uri": "https://localhost:8080/"
    },
    "id": "Tx-vN6u3Xd3X",
    "outputId": "97411986-2ba2-478a-d46d-adda795eb424"
   },
   "outputs": [
    {
     "name": "stdout",
     "output_type": "stream",
     "text": [
      "X_train shape (50000, 32, 32, 3)\n",
      "y_train shape (50000, 1)\n",
      "X_test shape (10000, 32, 32, 3)\n",
      "y_test shape (10000, 1)\n"
     ]
    }
   ],
   "source": [
    "print('X_train shape', X_train.shape)\n",
    "print('y_train shape', y_train.shape)\n",
    "print('X_test shape', X_test.shape)\n",
    "print('y_test shape', y_test.shape)"
   ]
  },
  {
   "cell_type": "code",
   "execution_count": 5,
   "metadata": {
    "id": "5FR4RJG06w_A"
   },
   "outputs": [],
   "source": [
    "X_train = X_train.astype('float32')\n",
    "X_test = X_test.astype('float32')\n",
    "X_train = X_train/255\n",
    "X_test = X_test/255\n",
    "\n",
    "y_train = keras.utils.to_categorical(y_train, 10)\n",
    "y_test = keras.utils.to_categorical(y_test, 10)"
   ]
  },
  {
   "cell_type": "code",
   "execution_count": 6,
   "metadata": {
    "id": "K8Q51xt9g8Md"
   },
   "outputs": [],
   "source": [
    "#hyperparameters\n",
    "batch_size = 32\n",
    "learning_rate = 0.001\n",
    "epochs = 100\n"
   ]
  },
  {
   "cell_type": "code",
   "execution_count": 7,
   "metadata": {
    "id": "EYosGTPpoIWY"
   },
   "outputs": [],
   "source": [
    "#splitting the dataset\n",
    "from sklearn.model_selection import train_test_split\n",
    "SubX_train, X_validation, Suby_train, y_validation = train_test_split(\n",
    "    X_train, \n",
    "    y_train,\n",
    "    test_size = 0.2,\n",
    "    shuffle = True\n",
    "\n",
    ")"
   ]
  },
  {
   "cell_type": "code",
   "execution_count": 8,
   "metadata": {
    "id": "irEO-QxVrEdv"
   },
   "outputs": [],
   "source": [
    "#creating model\n",
    "from keras import models, layers, Sequential\n",
    "cnn = models.Sequential([\n",
    "                         layers.Conv2D(filters=32, kernel_size=(3,3), activation = 'relu', input_shape=(32,32,3)), \n",
    "                         layers.MaxPooling2D((2,2)),\n",
    "\n",
    "                         layers.Conv2D(filters=64, kernel_size=(3,3), activation ='relu',),\n",
    "                         layers.MaxPooling2D((2,2)),\n",
    "\n",
    "                         layers.Flatten(),\n",
    "                         layers.Dense(64, activation='relu'),\n",
    "                         layers.Dense(10, activation ='softmax')\n",
    "])"
   ]
  },
  {
   "cell_type": "code",
   "execution_count": 10,
   "metadata": {
    "id": "yZ2RFuGZDtsW"
   },
   "outputs": [],
   "source": [
    "cnn.compile(optimizer = 'adam',\n",
    "            loss = 'categorical_crossentropy',\n",
    "            metrics = ['accuracy'])\n"
   ]
  },
  {
   "cell_type": "code",
   "execution_count": 11,
   "metadata": {
    "colab": {
     "base_uri": "https://localhost:8080/"
    },
    "id": "Vbt1BxwhFo2o",
    "outputId": "32dcd597-ca75-46e9-bdc6-3b7408b8fe44"
   },
   "outputs": [
    {
     "name": "stdout",
     "output_type": "stream",
     "text": [
      "Epoch 1/15\n",
      "1250/1250 [==============================] - 54s 43ms/step - loss: 1.5428 - accuracy: 0.4421 - val_loss: 1.2902 - val_accuracy: 0.5391\n",
      "Epoch 2/15\n",
      "1250/1250 [==============================] - 54s 43ms/step - loss: 1.1818 - accuracy: 0.5818 - val_loss: 1.1473 - val_accuracy: 0.5986\n",
      "Epoch 3/15\n",
      "1250/1250 [==============================] - 53s 42ms/step - loss: 1.0301 - accuracy: 0.6380 - val_loss: 1.1260 - val_accuracy: 0.6057\n",
      "Epoch 4/15\n",
      "1250/1250 [==============================] - 53s 42ms/step - loss: 0.9395 - accuracy: 0.6726 - val_loss: 1.0047 - val_accuracy: 0.6502\n",
      "Epoch 5/15\n",
      "1250/1250 [==============================] - 53s 43ms/step - loss: 0.8680 - accuracy: 0.6974 - val_loss: 0.9868 - val_accuracy: 0.6600\n",
      "Epoch 6/15\n",
      "1250/1250 [==============================] - 54s 43ms/step - loss: 0.8095 - accuracy: 0.7163 - val_loss: 0.9791 - val_accuracy: 0.6677\n",
      "Epoch 7/15\n",
      "1250/1250 [==============================] - 55s 44ms/step - loss: 0.7617 - accuracy: 0.7341 - val_loss: 1.0103 - val_accuracy: 0.6575\n",
      "Epoch 8/15\n",
      "1250/1250 [==============================] - 54s 43ms/step - loss: 0.7220 - accuracy: 0.7485 - val_loss: 0.9993 - val_accuracy: 0.6669\n",
      "Epoch 9/15\n",
      "1250/1250 [==============================] - 53s 43ms/step - loss: 0.6777 - accuracy: 0.7628 - val_loss: 1.0242 - val_accuracy: 0.6620\n",
      "Epoch 10/15\n",
      "1250/1250 [==============================] - 53s 42ms/step - loss: 0.6378 - accuracy: 0.7782 - val_loss: 0.9768 - val_accuracy: 0.6817\n",
      "Epoch 11/15\n",
      "1250/1250 [==============================] - 53s 42ms/step - loss: 0.6018 - accuracy: 0.7873 - val_loss: 1.0536 - val_accuracy: 0.6717\n",
      "Epoch 12/15\n",
      "1250/1250 [==============================] - 54s 43ms/step - loss: 0.5743 - accuracy: 0.7992 - val_loss: 1.0842 - val_accuracy: 0.6584\n",
      "Epoch 13/15\n",
      "1250/1250 [==============================] - 54s 43ms/step - loss: 0.5432 - accuracy: 0.8082 - val_loss: 1.0764 - val_accuracy: 0.6596\n",
      "Epoch 14/15\n",
      "1250/1250 [==============================] - 54s 43ms/step - loss: 0.5149 - accuracy: 0.8182 - val_loss: 1.0970 - val_accuracy: 0.6746\n",
      "Epoch 15/15\n",
      "1250/1250 [==============================] - 55s 44ms/step - loss: 0.4797 - accuracy: 0.8316 - val_loss: 1.1703 - val_accuracy: 0.6710\n"
     ]
    },
    {
     "data": {
      "text/plain": [
       "<keras.callbacks.History at 0x7faf8307c850>"
      ]
     },
     "execution_count": 11,
     "metadata": {},
     "output_type": "execute_result"
    }
   ],
   "source": [
    "cnn.fit(SubX_train, Suby_train, validation_data = (X_validation, y_validation),  epochs = 15)"
   ]
  },
  {
   "cell_type": "code",
   "execution_count": 12,
   "metadata": {
    "colab": {
     "base_uri": "https://localhost:8080/"
    },
    "id": "VL6OgACyF1Wc",
    "outputId": "a8aaff17-9c78-4f90-e160-7b3ed9662183"
   },
   "outputs": [
    {
     "name": "stdout",
     "output_type": "stream",
     "text": [
      "313/313 [==============================] - 4s 12ms/step - loss: 1.1615 - accuracy: 0.6717\n"
     ]
    },
    {
     "data": {
      "text/plain": [
       "[1.1614733934402466, 0.6717000007629395]"
      ]
     },
     "execution_count": 12,
     "metadata": {},
     "output_type": "execute_result"
    }
   ],
   "source": [
    "cnn.evaluate(X_test, y_test)"
   ]
  },
  {
   "cell_type": "code",
   "execution_count": 11,
   "metadata": {
    "colab": {
     "base_uri": "https://localhost:8080/"
    },
    "id": "CJZ0UdiSZVsL",
    "outputId": "b04a83a2-98b6-456e-8e19-4d2d7734e944"
   },
   "outputs": [
    {
     "name": "stdout",
     "output_type": "stream",
     "text": [
      "Epoch 1/30\n",
      "1250/1250 [==============================] - 55s 43ms/step - loss: 2.3279 - accuracy: 0.1045 - val_loss: 2.3026 - val_accuracy: 0.1022\n",
      "Epoch 2/30\n",
      "1250/1250 [==============================] - 54s 43ms/step - loss: 2.8133 - accuracy: 0.0993 - val_loss: 3.4089 - val_accuracy: 0.1022\n",
      "Epoch 3/30\n",
      "1250/1250 [==============================] - 54s 43ms/step - loss: 4.0606 - accuracy: 0.0989 - val_loss: 4.5797 - val_accuracy: 0.1023\n",
      "Epoch 4/30\n",
      "1250/1250 [==============================] - 53s 43ms/step - loss: 4.6764 - accuracy: 0.0994 - val_loss: 4.5797 - val_accuracy: 0.1023\n",
      "Epoch 5/30\n",
      "1250/1250 [==============================] - 53s 42ms/step - loss: 5.8068 - accuracy: 0.0994 - val_loss: 5.6968 - val_accuracy: 0.1023\n",
      "Epoch 6/30\n",
      "1250/1250 [==============================] - 53s 43ms/step - loss: 6.4338 - accuracy: 0.0994 - val_loss: 6.7490 - val_accuracy: 0.1023\n",
      "Epoch 7/30\n",
      "1250/1250 [==============================] - 53s 42ms/step - loss: 6.8917 - accuracy: 0.0994 - val_loss: 6.7490 - val_accuracy: 0.1023\n",
      "Epoch 8/30\n",
      "1250/1250 [==============================] - 53s 43ms/step - loss: 6.8917 - accuracy: 0.0994 - val_loss: 6.7490 - val_accuracy: 0.1023\n",
      "Epoch 9/30\n",
      "1250/1250 [==============================] - 53s 43ms/step - loss: 6.8917 - accuracy: 0.0994 - val_loss: 6.7490 - val_accuracy: 0.1023\n",
      "Epoch 10/30\n",
      "1250/1250 [==============================] - 53s 43ms/step - loss: 6.8917 - accuracy: 0.0994 - val_loss: 6.7490 - val_accuracy: 0.1023\n",
      "Epoch 11/30\n",
      "1250/1250 [==============================] - 54s 43ms/step - loss: 6.8917 - accuracy: 0.0994 - val_loss: 6.7490 - val_accuracy: 0.1023\n",
      "Epoch 12/30\n",
      "1250/1250 [==============================] - 54s 43ms/step - loss: 6.8917 - accuracy: 0.0994 - val_loss: 6.7490 - val_accuracy: 0.1023\n",
      "Epoch 13/30\n",
      "1250/1250 [==============================] - 53s 43ms/step - loss: 6.8917 - accuracy: 0.0994 - val_loss: 6.7490 - val_accuracy: 0.1023\n",
      "Epoch 14/30\n",
      "1250/1250 [==============================] - 57s 46ms/step - loss: 6.8917 - accuracy: 0.0994 - val_loss: 6.7490 - val_accuracy: 0.1023\n",
      "Epoch 15/30\n",
      "1250/1250 [==============================] - 54s 43ms/step - loss: 6.8917 - accuracy: 0.0994 - val_loss: 6.7490 - val_accuracy: 0.1023\n",
      "Epoch 16/30\n",
      "1250/1250 [==============================] - 54s 43ms/step - loss: 6.8917 - accuracy: 0.0994 - val_loss: 6.7490 - val_accuracy: 0.1023\n",
      "Epoch 17/30\n",
      "1250/1250 [==============================] - 54s 43ms/step - loss: 6.8917 - accuracy: 0.0994 - val_loss: 6.7490 - val_accuracy: 0.1023\n",
      "Epoch 18/30\n",
      "1250/1250 [==============================] - 53s 43ms/step - loss: 6.8917 - accuracy: 0.0994 - val_loss: 6.7490 - val_accuracy: 0.1023\n",
      "Epoch 19/30\n",
      "1250/1250 [==============================] - 54s 43ms/step - loss: 6.8917 - accuracy: 0.0994 - val_loss: 6.7490 - val_accuracy: 0.1023\n",
      "Epoch 20/30\n",
      "1250/1250 [==============================] - 54s 43ms/step - loss: 6.8917 - accuracy: 0.0994 - val_loss: 6.7490 - val_accuracy: 0.1023\n",
      "Epoch 21/30\n",
      "1250/1250 [==============================] - 54s 43ms/step - loss: 6.8917 - accuracy: 0.0994 - val_loss: 6.7490 - val_accuracy: 0.1023\n",
      "Epoch 22/30\n",
      "1250/1250 [==============================] - 54s 43ms/step - loss: 6.8917 - accuracy: 0.0994 - val_loss: 6.7490 - val_accuracy: 0.1023\n",
      "Epoch 23/30\n",
      "1250/1250 [==============================] - 53s 43ms/step - loss: 6.8917 - accuracy: 0.0994 - val_loss: 6.7490 - val_accuracy: 0.1023\n",
      "Epoch 24/30\n",
      "1250/1250 [==============================] - 54s 43ms/step - loss: 6.8917 - accuracy: 0.0994 - val_loss: 6.7490 - val_accuracy: 0.1023\n",
      "Epoch 25/30\n",
      "1250/1250 [==============================] - 53s 43ms/step - loss: 6.8917 - accuracy: 0.0994 - val_loss: 6.7490 - val_accuracy: 0.1023\n",
      "Epoch 26/30\n",
      "1250/1250 [==============================] - 53s 43ms/step - loss: 6.8917 - accuracy: 0.0994 - val_loss: 6.7490 - val_accuracy: 0.1023\n",
      "Epoch 27/30\n",
      "1250/1250 [==============================] - 53s 43ms/step - loss: 6.8917 - accuracy: 0.0994 - val_loss: 6.7490 - val_accuracy: 0.1023\n",
      "Epoch 28/30\n",
      "1250/1250 [==============================] - 53s 43ms/step - loss: 6.8917 - accuracy: 0.0994 - val_loss: 6.7490 - val_accuracy: 0.1023\n",
      "Epoch 29/30\n",
      "1250/1250 [==============================] - 53s 43ms/step - loss: 6.8917 - accuracy: 0.0994 - val_loss: 6.7490 - val_accuracy: 0.1023\n",
      "Epoch 30/30\n",
      "1250/1250 [==============================] - 53s 43ms/step - loss: 6.8917 - accuracy: 0.0994 - val_loss: 6.7490 - val_accuracy: 0.1023\n"
     ]
    },
    {
     "data": {
      "text/plain": [
       "<keras.callbacks.History at 0x7f589ea19750>"
      ]
     },
     "execution_count": 11,
     "metadata": {},
     "output_type": "execute_result"
    }
   ],
   "source": [
    "from keras import models, layers, Sequential\n",
    "cnn2 = models.Sequential([\n",
    "                         layers.Conv2D(filters=32, kernel_size=(3,3), activation = 'relu', input_shape=(32,32,3)), \n",
    "                         layers.MaxPooling2D((2,2)),\n",
    "\n",
    "                         layers.Conv2D(filters=64, kernel_size=(3,3), activation ='relu',),\n",
    "                         layers.MaxPooling2D((2,2)),\n",
    "\n",
    "                         layers.Flatten(),\n",
    "                         layers.Dense(64, activation='relu'),\n",
    "                         layers.Dense(10, activation ='tanh')\n",
    "])\n",
    "\n",
    "cnn2.compile(optimizer = 'adam',\n",
    "            loss = 'categorical_crossentropy',\n",
    "            metrics = ['accuracy'])\n",
    "\n",
    "cnn2.fit(SubX_train, Suby_train, validation_data = (X_validation, y_validation),  epochs = 15)\n"
   ]
  },
  {
   "cell_type": "code",
   "execution_count": 12,
   "metadata": {
    "colab": {
     "base_uri": "https://localhost:8080/"
    },
    "id": "9wRgdCN0hQrc",
    "outputId": "89c83dc7-9a66-4bef-aa25-92fcb1ee735e"
   },
   "outputs": [
    {
     "name": "stdout",
     "output_type": "stream",
     "text": [
      "313/313 [==============================] - 4s 13ms/step - loss: 6.8631 - accuracy: 0.1000\n"
     ]
    },
    {
     "data": {
      "text/plain": [
       "[6.863124370574951, 0.10000000149011612]"
      ]
     },
     "execution_count": 12,
     "metadata": {},
     "output_type": "execute_result"
    }
   ],
   "source": [
    "cnn2.evaluate(X_test, y_test)"
   ]
  },
  {
   "cell_type": "code",
   "execution_count": 9,
   "metadata": {
    "colab": {
     "base_uri": "https://localhost:8080/"
    },
    "id": "3C0aOhsMqa8X",
    "outputId": "4e8523c1-a6ef-4bce-b705-fbdc9d912058"
   },
   "outputs": [
    {
     "name": "stdout",
     "output_type": "stream",
     "text": [
      "Epoch 1/20\n",
      "1250/1250 [==============================] - 69s 55ms/step - loss: 1.6621 - accuracy: 0.3808 - val_loss: 1.4124 - val_accuracy: 0.4755\n",
      "Epoch 2/20\n",
      "1250/1250 [==============================] - 66s 53ms/step - loss: 1.3366 - accuracy: 0.5128 - val_loss: 1.1963 - val_accuracy: 0.5657\n",
      "Epoch 3/20\n",
      "1250/1250 [==============================] - 67s 54ms/step - loss: 1.2056 - accuracy: 0.5680 - val_loss: 1.1441 - val_accuracy: 0.5855\n",
      "Epoch 4/20\n",
      "1250/1250 [==============================] - 67s 54ms/step - loss: 1.1217 - accuracy: 0.5987 - val_loss: 1.0544 - val_accuracy: 0.6169\n",
      "Epoch 5/20\n",
      "1250/1250 [==============================] - 67s 53ms/step - loss: 1.0456 - accuracy: 0.6295 - val_loss: 0.9773 - val_accuracy: 0.6491\n",
      "Epoch 6/20\n",
      "1250/1250 [==============================] - 72s 57ms/step - loss: 1.0024 - accuracy: 0.6436 - val_loss: 0.9779 - val_accuracy: 0.6512\n",
      "Epoch 7/20\n",
      "1250/1250 [==============================] - 74s 59ms/step - loss: 0.9577 - accuracy: 0.6608 - val_loss: 0.8995 - val_accuracy: 0.6835\n",
      "Epoch 8/20\n",
      "1250/1250 [==============================] - 73s 59ms/step - loss: 0.9230 - accuracy: 0.6735 - val_loss: 0.8707 - val_accuracy: 0.6923\n",
      "Epoch 9/20\n",
      "1250/1250 [==============================] - 72s 58ms/step - loss: 0.8955 - accuracy: 0.6848 - val_loss: 0.8490 - val_accuracy: 0.6981\n",
      "Epoch 10/20\n",
      "1250/1250 [==============================] - 72s 57ms/step - loss: 0.8631 - accuracy: 0.6947 - val_loss: 0.8579 - val_accuracy: 0.6946\n",
      "Epoch 11/20\n",
      "1250/1250 [==============================] - 70s 56ms/step - loss: 0.8417 - accuracy: 0.7032 - val_loss: 0.8188 - val_accuracy: 0.7129\n",
      "Epoch 12/20\n",
      "1250/1250 [==============================] - 69s 55ms/step - loss: 0.8220 - accuracy: 0.7090 - val_loss: 0.8092 - val_accuracy: 0.7170\n",
      "Epoch 13/20\n",
      "1250/1250 [==============================] - 69s 55ms/step - loss: 0.8025 - accuracy: 0.7157 - val_loss: 0.8399 - val_accuracy: 0.7062\n",
      "Epoch 14/20\n",
      "1250/1250 [==============================] - 71s 57ms/step - loss: 0.7880 - accuracy: 0.7204 - val_loss: 0.7998 - val_accuracy: 0.7176\n",
      "Epoch 15/20\n",
      "1250/1250 [==============================] - 70s 56ms/step - loss: 0.7716 - accuracy: 0.7273 - val_loss: 0.7813 - val_accuracy: 0.7260\n",
      "Epoch 16/20\n",
      "1250/1250 [==============================] - 69s 55ms/step - loss: 0.7604 - accuracy: 0.7340 - val_loss: 0.7764 - val_accuracy: 0.7247\n",
      "Epoch 17/20\n",
      "1250/1250 [==============================] - 69s 56ms/step - loss: 0.7466 - accuracy: 0.7367 - val_loss: 0.7826 - val_accuracy: 0.7287\n",
      "Epoch 18/20\n",
      "1250/1250 [==============================] - 70s 56ms/step - loss: 0.7367 - accuracy: 0.7401 - val_loss: 0.8068 - val_accuracy: 0.7145\n",
      "Epoch 19/20\n",
      "1250/1250 [==============================] - 69s 55ms/step - loss: 0.7273 - accuracy: 0.7418 - val_loss: 0.7649 - val_accuracy: 0.7353\n",
      "Epoch 20/20\n",
      "1250/1250 [==============================] - 71s 57ms/step - loss: 0.7182 - accuracy: 0.7445 - val_loss: 0.7674 - val_accuracy: 0.7329\n"
     ]
    },
    {
     "data": {
      "text/plain": [
       "<keras.callbacks.History at 0x7f98050d85d0>"
      ]
     },
     "execution_count": 9,
     "metadata": {},
     "output_type": "execute_result"
    }
   ],
   "source": [
    "from keras import models, layers, Sequential\n",
    "cnn3 = models.Sequential([\n",
    "                         layers.Conv2D(filters=32, kernel_size=(3,3), activation = 'relu', input_shape=(32,32,3), padding = 'same'), \n",
    "                         layers.MaxPooling2D((2,2)),\n",
    "\n",
    "                         layers.Conv2D(filters=32, kernel_size=(3,3), activation ='relu'),\n",
    "                         layers.MaxPooling2D((2,2)),\n",
    "                         layers.Dropout(0.25),\n",
    "                         layers.Conv2D(64, (3,3), padding = 'same', activation = 'relu'),\n",
    "                         layers.Conv2D(64, (3,3), activation = 'relu'),\n",
    "                         layers.MaxPooling2D((2,2)),\n",
    "                         layers.Dropout(0.25),\n",
    "                          \n",
    "                         layers.Flatten(),\n",
    "                         layers.Dense(64, activation='relu'),\n",
    "                         layers.Dense(10, activation ='softmax')\n",
    "])\n",
    "\n",
    "cnn3.compile(optimizer = 'adam',\n",
    "            loss = 'categorical_crossentropy',\n",
    "            metrics = ['accuracy'])\n",
    "\n",
    "cnn3.fit(SubX_train, Suby_train, validation_data = (X_validation, y_validation), epochs = 20)\n"
   ]
  },
  {
   "cell_type": "code",
   "execution_count": 10,
   "metadata": {
    "colab": {
     "base_uri": "https://localhost:8080/"
    },
    "id": "9jHe9g_9VNe3",
    "outputId": "dd9f28f3-34bc-4241-90b2-465d3483eb20"
   },
   "outputs": [
    {
     "name": "stdout",
     "output_type": "stream",
     "text": [
      "313/313 [==============================] - 5s 16ms/step - loss: 0.7596 - accuracy: 0.7372\n"
     ]
    },
    {
     "data": {
      "text/plain": [
       "[0.7595734596252441, 0.7372000217437744]"
      ]
     },
     "execution_count": 10,
     "metadata": {},
     "output_type": "execute_result"
    }
   ],
   "source": [
    "cnn3.evaluate(X_test, y_test)"
   ]
  },
  {
   "cell_type": "code",
   "execution_count": null,
   "metadata": {
    "colab": {
     "base_uri": "https://localhost:8080/"
    },
    "id": "Tc1ZfPL7si5q",
    "outputId": "8c05c669-fe86-4612-f99b-3b9424cc85c1"
   },
   "outputs": [
    {
     "name": "stdout",
     "output_type": "stream",
     "text": [
      "Epoch 1/30\n"
     ]
    },
    {
     "name": "stderr",
     "output_type": "stream",
     "text": [
      "/usr/local/lib/python3.7/dist-packages/ipykernel_launcher.py:13: UserWarning: `Model.fit_generator` is deprecated and will be removed in a future version. Please use `Model.fit`, which supports generators.\n",
      "  del sys.path[0]\n"
     ]
    },
    {
     "name": "stdout",
     "output_type": "stream",
     "text": [
      "1250/1250 [==============================] - 96s 76ms/step - loss: 1.1915 - accuracy: 0.5819 - val_loss: 0.9529 - val_accuracy: 0.6746\n",
      "Epoch 2/30\n",
      "1250/1250 [==============================] - 90s 72ms/step - loss: 1.1415 - accuracy: 0.6001 - val_loss: 0.9200 - val_accuracy: 0.6804\n",
      "Epoch 3/30\n",
      "1250/1250 [==============================] - 90s 72ms/step - loss: 1.1254 - accuracy: 0.6013 - val_loss: 0.8993 - val_accuracy: 0.6844\n",
      "Epoch 4/30\n",
      "1250/1250 [==============================] - 90s 72ms/step - loss: 1.1084 - accuracy: 0.6111 - val_loss: 0.9218 - val_accuracy: 0.6883\n",
      "Epoch 5/30\n",
      "1250/1250 [==============================] - 91s 73ms/step - loss: 1.0931 - accuracy: 0.6138 - val_loss: 0.9250 - val_accuracy: 0.6795\n",
      "Epoch 6/30\n",
      "1250/1250 [==============================] - 91s 73ms/step - loss: 1.0723 - accuracy: 0.6226 - val_loss: 0.9433 - val_accuracy: 0.6758\n",
      "Epoch 7/30\n",
      "1250/1250 [==============================] - 91s 73ms/step - loss: 1.0761 - accuracy: 0.6235 - val_loss: 0.8962 - val_accuracy: 0.6897\n",
      "Epoch 8/30\n",
      "1250/1250 [==============================] - 92s 73ms/step - loss: 1.0657 - accuracy: 0.6263 - val_loss: 0.8194 - val_accuracy: 0.7157\n",
      "Epoch 9/30\n",
      "1250/1250 [==============================] - 91s 73ms/step - loss: 1.0528 - accuracy: 0.6278 - val_loss: 0.8106 - val_accuracy: 0.7222\n",
      "Epoch 10/30\n",
      "1250/1250 [==============================] - 91s 73ms/step - loss: 1.0570 - accuracy: 0.6294 - val_loss: 0.8464 - val_accuracy: 0.7100\n",
      "Epoch 11/30\n",
      "1250/1250 [==============================] - 92s 73ms/step - loss: 1.0400 - accuracy: 0.6337 - val_loss: 0.8613 - val_accuracy: 0.7065\n",
      "Epoch 12/30\n",
      "1250/1250 [==============================] - 92s 73ms/step - loss: 1.0363 - accuracy: 0.6381 - val_loss: 0.8200 - val_accuracy: 0.7212\n",
      "Epoch 13/30\n",
      "1250/1250 [==============================] - 92s 74ms/step - loss: 1.0290 - accuracy: 0.6392 - val_loss: 1.0097 - val_accuracy: 0.6624\n",
      "Epoch 14/30\n",
      "1250/1250 [==============================] - 92s 74ms/step - loss: 1.0290 - accuracy: 0.6417 - val_loss: 0.8519 - val_accuracy: 0.7078\n",
      "Epoch 15/30\n",
      "1250/1250 [==============================] - 91s 73ms/step - loss: 1.0159 - accuracy: 0.6434 - val_loss: 0.9053 - val_accuracy: 0.6948\n",
      "Epoch 16/30\n",
      "1250/1250 [==============================] - 92s 73ms/step - loss: 1.0129 - accuracy: 0.6443 - val_loss: 0.8589 - val_accuracy: 0.7144\n",
      "Epoch 17/30\n",
      "1250/1250 [==============================] - 92s 74ms/step - loss: 1.0097 - accuracy: 0.6445 - val_loss: 0.9470 - val_accuracy: 0.6757\n",
      "Epoch 18/30\n",
      "1250/1250 [==============================] - 94s 75ms/step - loss: 1.0095 - accuracy: 0.6439 - val_loss: 0.8445 - val_accuracy: 0.7150\n",
      "Epoch 19/30\n",
      "1250/1250 [==============================] - 94s 75ms/step - loss: 1.0022 - accuracy: 0.6478 - val_loss: 0.8321 - val_accuracy: 0.7102\n",
      "Epoch 20/30\n",
      "1250/1250 [==============================] - 94s 75ms/step - loss: 0.9950 - accuracy: 0.6506 - val_loss: 0.8555 - val_accuracy: 0.7083\n",
      "Epoch 21/30\n",
      "1250/1250 [==============================] - 94s 75ms/step - loss: 0.9960 - accuracy: 0.6515 - val_loss: 0.8320 - val_accuracy: 0.7173\n",
      "Epoch 22/30\n",
      "1250/1250 [==============================] - 94s 75ms/step - loss: 0.9891 - accuracy: 0.6526 - val_loss: 0.8329 - val_accuracy: 0.7097\n",
      "Epoch 23/30\n",
      "1250/1250 [==============================] - 94s 75ms/step - loss: 0.9959 - accuracy: 0.6539 - val_loss: 0.8349 - val_accuracy: 0.7224\n",
      "Epoch 24/30\n",
      "1250/1250 [==============================] - 95s 76ms/step - loss: 0.9891 - accuracy: 0.6553 - val_loss: 0.8894 - val_accuracy: 0.6988\n",
      "Epoch 25/30\n",
      "1250/1250 [==============================] - 95s 76ms/step - loss: 0.9780 - accuracy: 0.6577 - val_loss: 0.8247 - val_accuracy: 0.7221\n",
      "Epoch 26/30\n",
      "1250/1250 [==============================] - 95s 76ms/step - loss: 0.9798 - accuracy: 0.6579 - val_loss: 0.9391 - val_accuracy: 0.6815\n",
      "Epoch 27/30\n",
      " 352/1250 [=======>......................] - ETA: 1:03 - loss: 0.9793 - accuracy: 0.6594"
     ]
    }
   ],
   "source": [
    "from keras.preprocessing.image import ImageDataGenerator\n",
    "#Using data augmentation\n",
    "datagen = ImageDataGenerator(\n",
    "    rescale = None,\n",
    "    rotation_range = 40,\n",
    "    width_shift_range = 0.1, \n",
    "    height_shift_range = 0.1,\n",
    "    shear_range = 0.2,\n",
    "    horizontal_flip = True    \n",
    ")\n",
    "datagen.fit(X_train)\n",
    "history = cnn3.fit_generator(datagen.flow(SubX_train, Suby_train),\n",
    "                             epochs = 30, \n",
    "                             validation_data = (X_validation, y_validation),\n",
    "                             \n",
    "                             )"
   ]
  },
  {
   "cell_type": "code",
   "execution_count": 28,
   "metadata": {
    "colab": {
     "base_uri": "https://localhost:8080/"
    },
    "id": "T3ETHutf2cqN",
    "outputId": "b8353c17-3d4f-42ef-fba4-79a91ae46c40"
   },
   "outputs": [
    {
     "name": "stdout",
     "output_type": "stream",
     "text": [
      "313/313 [==============================] - 6s 18ms/step - loss: 0.8889 - accuracy: 0.6914\n"
     ]
    },
    {
     "data": {
      "text/plain": [
       "[0.8889244198799133, 0.6913999915122986]"
      ]
     },
     "execution_count": 28,
     "metadata": {},
     "output_type": "execute_result"
    }
   ],
   "source": [
    "cnn3.evaluate(X_test, y_test)"
   ]
  },
  {
   "cell_type": "code",
   "execution_count": null,
   "metadata": {
    "id": "BkmBbC7XVG8R"
   },
   "outputs": [],
   "source": [
    "cnn4 = models.Sequential([\n",
    "                         layers.Conv2D(filters=32, kernel_size=(3,3), activation = 'relu', input_shape=(32,32,3), padding = 'same'), \n",
    "                         layers.MaxPooling2D((2,2)),\n",
    "\n",
    "                         layers.Conv2D(filters=32, kernel_size=(3,3), activation ='relu'),\n",
    "                         layers.Conv2D(filters=32, kernel_size=(3,3), activation ='relu'),\n",
    "                      \n",
    "                         layers.MaxPooling2D((2,2)),\n",
    "                         layers.Dropout(0.25),\n",
    "                          \n",
    "                  \n",
    "                         layers.Conv2D(64, (3,3), padding = 'same', activation = 'relu'),\n",
    "                         layers.Conv2D(64, (3,3), padding = 'same', activation = 'relu'),\n",
    "                         layers.Conv2D(64, (3,3), activation = 'relu'),\n",
    "                         layers.Conv2D(64, (3,3), activation = 'relu'),\n",
    "                         \n",
    "                         layers.MaxPooling2D((2,2)),\n",
    "                         layers.Dropout(0.25),\n",
    "                          \n",
    "                         layers.Flatten(),\n",
    "                         layers.Dense(64, activation='relu'),\n",
    "                         layers.Dense(32, activation = 'relu'), \n",
    "                         layers.Dense(10, activation ='softmax')\n",
    "])\n",
    "\n",
    "cnn4.compile(optimizer = 'adam',\n",
    "            loss = 'categorical_crossentropy',\n",
    "            metrics = ['accuracy'])\n",
    "\n",
    "cnn4.fit(SubX_train, Suby_train, validation_data = (X_validation, y_validation), epochs = 30)\n",
    "\n"
   ]
  },
  {
   "cell_type": "code",
   "execution_count": 27,
   "metadata": {
    "colab": {
     "base_uri": "https://localhost:8080/"
    },
    "id": "6PMuIzuGlYvg",
    "outputId": "4b9103ba-e235-49a1-b670-07b83715c9f5"
   },
   "outputs": [
    {
     "name": "stdout",
     "output_type": "stream",
     "text": [
      "313/313 [==============================] - 6s 21ms/step - loss: 0.7909 - accuracy: 0.7422\n"
     ]
    },
    {
     "data": {
      "text/plain": [
       "[0.7908505797386169, 0.7422000169754028]"
      ]
     },
     "execution_count": 27,
     "metadata": {},
     "output_type": "execute_result"
    }
   ],
   "source": [
    "cnn4.evaluate(X_test, y_test)"
   ]
  },
  {
   "cell_type": "code",
   "execution_count": 10,
   "metadata": {
    "colab": {
     "base_uri": "https://localhost:8080/"
    },
    "id": "eCpMLjhpjGY8",
    "outputId": "aa62c489-b5c0-48e2-8423-58bb5b87742a"
   },
   "outputs": [
    {
     "name": "stdout",
     "output_type": "stream",
     "text": [
      "Epoch 1/30\n",
      "1250/1250 [==============================] - 86s 68ms/step - loss: 2.1371 - accuracy: 0.1821 - val_loss: 2.0019 - val_accuracy: 0.1953\n",
      "Epoch 2/30\n",
      "1250/1250 [==============================] - 85s 68ms/step - loss: 1.9658 - accuracy: 0.2098 - val_loss: 1.9454 - val_accuracy: 0.2111\n",
      "Epoch 3/30\n",
      "1250/1250 [==============================] - 86s 69ms/step - loss: 1.8894 - accuracy: 0.2455 - val_loss: 1.8412 - val_accuracy: 0.2724\n",
      "Epoch 4/30\n",
      "1250/1250 [==============================] - 88s 71ms/step - loss: 1.8110 - accuracy: 0.2878 - val_loss: 1.7564 - val_accuracy: 0.3184\n",
      "Epoch 5/30\n",
      "1250/1250 [==============================] - 87s 70ms/step - loss: 1.7155 - accuracy: 0.3431 - val_loss: 1.6603 - val_accuracy: 0.3769\n",
      "Epoch 6/30\n",
      "1250/1250 [==============================] - 87s 69ms/step - loss: 1.6149 - accuracy: 0.3961 - val_loss: 1.5650 - val_accuracy: 0.4369\n",
      "Epoch 7/30\n",
      "1250/1250 [==============================] - 88s 70ms/step - loss: 1.5040 - accuracy: 0.4516 - val_loss: 1.4563 - val_accuracy: 0.4680\n",
      "Epoch 8/30\n",
      "1250/1250 [==============================] - 90s 72ms/step - loss: 1.4160 - accuracy: 0.4946 - val_loss: 1.3584 - val_accuracy: 0.5206\n",
      "Epoch 9/30\n",
      "1250/1250 [==============================] - 93s 75ms/step - loss: 1.3363 - accuracy: 0.5249 - val_loss: 1.3393 - val_accuracy: 0.5253\n",
      "Epoch 10/30\n",
      "1250/1250 [==============================] - 92s 74ms/step - loss: 1.2775 - accuracy: 0.5489 - val_loss: 1.2890 - val_accuracy: 0.5420\n",
      "Epoch 11/30\n",
      "1250/1250 [==============================] - 98s 79ms/step - loss: 1.2252 - accuracy: 0.5667 - val_loss: 1.2160 - val_accuracy: 0.5799\n",
      "Epoch 12/30\n",
      "1250/1250 [==============================] - 101s 81ms/step - loss: 1.1817 - accuracy: 0.5857 - val_loss: 1.1663 - val_accuracy: 0.5949\n",
      "Epoch 13/30\n",
      "1250/1250 [==============================] - 103s 82ms/step - loss: 1.1475 - accuracy: 0.5977 - val_loss: 1.1563 - val_accuracy: 0.5978\n",
      "Epoch 14/30\n",
      "1250/1250 [==============================] - 100s 80ms/step - loss: 1.1124 - accuracy: 0.6119 - val_loss: 1.1389 - val_accuracy: 0.6122\n",
      "Epoch 15/30\n",
      "1250/1250 [==============================] - 108s 86ms/step - loss: 1.0858 - accuracy: 0.6224 - val_loss: 1.0950 - val_accuracy: 0.6191\n",
      "Epoch 16/30\n",
      "1250/1250 [==============================] - 105s 84ms/step - loss: 1.0617 - accuracy: 0.6304 - val_loss: 1.1145 - val_accuracy: 0.6143\n",
      "Epoch 17/30\n",
      "1250/1250 [==============================] - 108s 87ms/step - loss: 1.0317 - accuracy: 0.6420 - val_loss: 1.0609 - val_accuracy: 0.6313\n",
      "Epoch 18/30\n",
      "1250/1250 [==============================] - 110s 88ms/step - loss: 1.0088 - accuracy: 0.6516 - val_loss: 1.0945 - val_accuracy: 0.6240\n",
      "Epoch 19/30\n",
      "1250/1250 [==============================] - 98s 79ms/step - loss: 0.9895 - accuracy: 0.6599 - val_loss: 1.0679 - val_accuracy: 0.6320\n",
      "Epoch 20/30\n",
      "1250/1250 [==============================] - 101s 81ms/step - loss: 0.9734 - accuracy: 0.6639 - val_loss: 1.0035 - val_accuracy: 0.6601\n",
      "Epoch 21/30\n",
      "1250/1250 [==============================] - 103s 82ms/step - loss: 0.9595 - accuracy: 0.6702 - val_loss: 1.0044 - val_accuracy: 0.6573\n",
      "Epoch 22/30\n",
      "1250/1250 [==============================] - 104s 83ms/step - loss: 0.9400 - accuracy: 0.6790 - val_loss: 0.9925 - val_accuracy: 0.6586\n",
      "Epoch 23/30\n",
      "1250/1250 [==============================] - 105s 84ms/step - loss: 0.9145 - accuracy: 0.6892 - val_loss: 0.9815 - val_accuracy: 0.6640\n",
      "Epoch 24/30\n",
      "1250/1250 [==============================] - 104s 83ms/step - loss: 0.9105 - accuracy: 0.6905 - val_loss: 0.9787 - val_accuracy: 0.6628\n",
      "Epoch 25/30\n",
      "1250/1250 [==============================] - 107s 86ms/step - loss: 0.8883 - accuracy: 0.6995 - val_loss: 0.9855 - val_accuracy: 0.6682\n",
      "Epoch 26/30\n",
      "1250/1250 [==============================] - 105s 84ms/step - loss: 0.8835 - accuracy: 0.7010 - val_loss: 0.9634 - val_accuracy: 0.6721\n",
      "Epoch 27/30\n",
      "1250/1250 [==============================] - 105s 84ms/step - loss: 0.8657 - accuracy: 0.7050 - val_loss: 0.9768 - val_accuracy: 0.6719\n",
      "Epoch 28/30\n",
      "1250/1250 [==============================] - 107s 85ms/step - loss: 0.8583 - accuracy: 0.7090 - val_loss: 0.9587 - val_accuracy: 0.6799\n",
      "Epoch 29/30\n",
      "1250/1250 [==============================] - 108s 87ms/step - loss: 0.8438 - accuracy: 0.7145 - val_loss: 0.9431 - val_accuracy: 0.6792\n",
      "Epoch 30/30\n",
      "1250/1250 [==============================] - 109s 87ms/step - loss: 0.8503 - accuracy: 0.7129 - val_loss: 0.9232 - val_accuracy: 0.6916\n"
     ]
    },
    {
     "data": {
      "text/plain": [
       "<keras.callbacks.History at 0x7f76f8446710>"
      ]
     },
     "execution_count": 10,
     "metadata": {},
     "output_type": "execute_result"
    }
   ],
   "source": [
    "cnn5 = models.Sequential([\n",
    "                         layers.Conv2D(filters=32, kernel_size=(3,3), activation = 'relu', input_shape=(32,32,3), padding = 'same'), \n",
    "                         layers.MaxPooling2D((2,2)),\n",
    "\n",
    "                         layers.Conv2D(filters=32, kernel_size=(3,3), activation ='relu'),\n",
    "                         layers.Conv2D(filters=32, kernel_size=(3,3), activation ='relu'),\n",
    "                      \n",
    "                         layers.MaxPooling2D((2,2)),\n",
    "                         layers.Dropout(0.25),\n",
    "                          \n",
    "                  \n",
    "                         layers.Conv2D(64, (3,3), padding = 'same', activation = 'relu'),\n",
    "                         layers.Conv2D(64, (3,3), padding = 'same', activation = 'relu'),\n",
    "                         layers.Conv2D(64, (3,3), activation = 'relu'),\n",
    "                         layers.Conv2D(64, (3,3), activation = 'relu'),\n",
    "                         \n",
    "                         layers.MaxPooling2D((2,2)),\n",
    "                         layers.Dropout(0.25),\n",
    "                          \n",
    "                         layers.Flatten(),\n",
    "                          \n",
    "                         layers.Dense(64, activation='relu'),\n",
    "                         layers.Dense(32, activation = 'relu'),\n",
    "                         layers.Dense(20, activation = 'softmax'),  \n",
    "                         layers.Dense(10, activation ='softmax')\n",
    "])\n",
    "\n",
    "cnn5.compile(optimizer = 'adam',\n",
    "            loss = 'categorical_crossentropy',\n",
    "            metrics = ['accuracy'])\n",
    "\n",
    "cnn5.fit(SubX_train, Suby_train, validation_data = (X_validation, y_validation), epochs = 30)\n"
   ]
  },
  {
   "cell_type": "code",
   "execution_count": 11,
   "metadata": {
    "colab": {
     "base_uri": "https://localhost:8080/"
    },
    "id": "7A6SUWGB0Oll",
    "outputId": "1bb78f11-a901-42c6-8baa-f1970f2f3424"
   },
   "outputs": [
    {
     "name": "stdout",
     "output_type": "stream",
     "text": [
      "313/313 [==============================] - 11s 35ms/step - loss: 0.9430 - accuracy: 0.6892\n"
     ]
    },
    {
     "data": {
      "text/plain": [
       "[0.9430344700813293, 0.6891999840736389]"
      ]
     },
     "execution_count": 11,
     "metadata": {},
     "output_type": "execute_result"
    }
   ],
   "source": [
    "cnn5.evaluate(X_test, y_test)"
   ]
  },
  {
   "cell_type": "code",
   "execution_count": 12,
   "metadata": {
    "colab": {
     "base_uri": "https://localhost:8080/",
     "height": 752
    },
    "id": "uFPLgIuv0TOR",
    "outputId": "1c9ca820-41ad-4898-cb9f-a456466e4e1a"
   },
   "outputs": [
    {
     "name": "stdout",
     "output_type": "stream",
     "text": [
      "Epoch 1/30\n",
      "1250/1250 [==============================] - 107s 85ms/step - loss: 0.8246 - accuracy: 0.7221 - val_loss: 0.9475 - val_accuracy: 0.6854\n",
      "Epoch 2/30\n",
      "1250/1250 [==============================] - 101s 81ms/step - loss: 0.8114 - accuracy: 0.7250 - val_loss: 0.9344 - val_accuracy: 0.6799\n",
      "Epoch 3/30\n",
      "1250/1250 [==============================] - 100s 80ms/step - loss: 0.8045 - accuracy: 0.7253 - val_loss: 0.9184 - val_accuracy: 0.6888\n",
      "Epoch 4/30\n",
      "1250/1250 [==============================] - 99s 80ms/step - loss: 0.7942 - accuracy: 0.7327 - val_loss: 0.9199 - val_accuracy: 0.6887\n",
      "Epoch 5/30\n",
      "1250/1250 [==============================] - 94s 75ms/step - loss: 0.7891 - accuracy: 0.7348 - val_loss: 0.8939 - val_accuracy: 0.7009\n",
      "Epoch 6/30\n",
      "1250/1250 [==============================] - 95s 76ms/step - loss: 0.7808 - accuracy: 0.7363 - val_loss: 0.9284 - val_accuracy: 0.6872\n",
      "Epoch 7/30\n",
      "1250/1250 [==============================] - 96s 77ms/step - loss: 0.7734 - accuracy: 0.7421 - val_loss: 0.9140 - val_accuracy: 0.6948\n",
      "Epoch 8/30\n",
      "1250/1250 [==============================] - 95s 76ms/step - loss: 0.7798 - accuracy: 0.7381 - val_loss: 0.9243 - val_accuracy: 0.6918\n",
      "Epoch 9/30\n",
      "1250/1250 [==============================] - 96s 77ms/step - loss: 0.7630 - accuracy: 0.7429 - val_loss: 0.8978 - val_accuracy: 0.6998\n",
      "Epoch 10/30\n",
      "1250/1250 [==============================] - 93s 75ms/step - loss: 0.7424 - accuracy: 0.7517 - val_loss: 0.8937 - val_accuracy: 0.6991\n",
      "Epoch 11/30\n",
      "1250/1250 [==============================] - 92s 74ms/step - loss: 0.7340 - accuracy: 0.7526 - val_loss: 0.9400 - val_accuracy: 0.6836\n",
      "Epoch 12/30\n",
      "1167/1250 [===========================>..] - ETA: 7s - loss: 0.7433 - accuracy: 0.7510"
     ]
    },
    {
     "ename": "KeyboardInterrupt",
     "evalue": "ignored",
     "output_type": "error",
     "traceback": [
      "\u001b[0;31m---------------------------------------------------------------------------\u001b[0m",
      "\u001b[0;31mKeyboardInterrupt\u001b[0m                         Traceback (most recent call last)",
      "\u001b[0;32m<ipython-input-12-81a481592fb6>\u001b[0m in \u001b[0;36m<module>\u001b[0;34m()\u001b[0m\n\u001b[0;32m----> 1\u001b[0;31m \u001b[0mcnn5\u001b[0m\u001b[0;34m.\u001b[0m\u001b[0mfit\u001b[0m\u001b[0;34m(\u001b[0m\u001b[0mSubX_train\u001b[0m\u001b[0;34m,\u001b[0m \u001b[0mSuby_train\u001b[0m\u001b[0;34m,\u001b[0m \u001b[0mvalidation_data\u001b[0m \u001b[0;34m=\u001b[0m \u001b[0;34m(\u001b[0m\u001b[0mX_validation\u001b[0m\u001b[0;34m,\u001b[0m \u001b[0my_validation\u001b[0m\u001b[0;34m)\u001b[0m\u001b[0;34m,\u001b[0m \u001b[0mepochs\u001b[0m \u001b[0;34m=\u001b[0m \u001b[0;36m30\u001b[0m\u001b[0;34m)\u001b[0m\u001b[0;34m\u001b[0m\u001b[0;34m\u001b[0m\u001b[0m\n\u001b[0m",
      "\u001b[0;32m/usr/local/lib/python3.7/dist-packages/keras/utils/traceback_utils.py\u001b[0m in \u001b[0;36merror_handler\u001b[0;34m(*args, **kwargs)\u001b[0m\n\u001b[1;32m     62\u001b[0m     \u001b[0mfiltered_tb\u001b[0m \u001b[0;34m=\u001b[0m \u001b[0;32mNone\u001b[0m\u001b[0;34m\u001b[0m\u001b[0;34m\u001b[0m\u001b[0m\n\u001b[1;32m     63\u001b[0m     \u001b[0;32mtry\u001b[0m\u001b[0;34m:\u001b[0m\u001b[0;34m\u001b[0m\u001b[0;34m\u001b[0m\u001b[0m\n\u001b[0;32m---> 64\u001b[0;31m       \u001b[0;32mreturn\u001b[0m \u001b[0mfn\u001b[0m\u001b[0;34m(\u001b[0m\u001b[0;34m*\u001b[0m\u001b[0margs\u001b[0m\u001b[0;34m,\u001b[0m \u001b[0;34m**\u001b[0m\u001b[0mkwargs\u001b[0m\u001b[0;34m)\u001b[0m\u001b[0;34m\u001b[0m\u001b[0;34m\u001b[0m\u001b[0m\n\u001b[0m\u001b[1;32m     65\u001b[0m     \u001b[0;32mexcept\u001b[0m \u001b[0mException\u001b[0m \u001b[0;32mas\u001b[0m \u001b[0me\u001b[0m\u001b[0;34m:\u001b[0m  \u001b[0;31m# pylint: disable=broad-except\u001b[0m\u001b[0;34m\u001b[0m\u001b[0;34m\u001b[0m\u001b[0m\n\u001b[1;32m     66\u001b[0m       \u001b[0mfiltered_tb\u001b[0m \u001b[0;34m=\u001b[0m \u001b[0m_process_traceback_frames\u001b[0m\u001b[0;34m(\u001b[0m\u001b[0me\u001b[0m\u001b[0;34m.\u001b[0m\u001b[0m__traceback__\u001b[0m\u001b[0;34m)\u001b[0m\u001b[0;34m\u001b[0m\u001b[0;34m\u001b[0m\u001b[0m\n",
      "\u001b[0;32m/usr/local/lib/python3.7/dist-packages/keras/engine/training.py\u001b[0m in \u001b[0;36mfit\u001b[0;34m(self, x, y, batch_size, epochs, verbose, callbacks, validation_split, validation_data, shuffle, class_weight, sample_weight, initial_epoch, steps_per_epoch, validation_steps, validation_batch_size, validation_freq, max_queue_size, workers, use_multiprocessing)\u001b[0m\n\u001b[1;32m   1382\u001b[0m                 _r=1):\n\u001b[1;32m   1383\u001b[0m               \u001b[0mcallbacks\u001b[0m\u001b[0;34m.\u001b[0m\u001b[0mon_train_batch_begin\u001b[0m\u001b[0;34m(\u001b[0m\u001b[0mstep\u001b[0m\u001b[0;34m)\u001b[0m\u001b[0;34m\u001b[0m\u001b[0;34m\u001b[0m\u001b[0m\n\u001b[0;32m-> 1384\u001b[0;31m               \u001b[0mtmp_logs\u001b[0m \u001b[0;34m=\u001b[0m \u001b[0mself\u001b[0m\u001b[0;34m.\u001b[0m\u001b[0mtrain_function\u001b[0m\u001b[0;34m(\u001b[0m\u001b[0miterator\u001b[0m\u001b[0;34m)\u001b[0m\u001b[0;34m\u001b[0m\u001b[0;34m\u001b[0m\u001b[0m\n\u001b[0m\u001b[1;32m   1385\u001b[0m               \u001b[0;32mif\u001b[0m \u001b[0mdata_handler\u001b[0m\u001b[0;34m.\u001b[0m\u001b[0mshould_sync\u001b[0m\u001b[0;34m:\u001b[0m\u001b[0;34m\u001b[0m\u001b[0;34m\u001b[0m\u001b[0m\n\u001b[1;32m   1386\u001b[0m                 \u001b[0mcontext\u001b[0m\u001b[0;34m.\u001b[0m\u001b[0masync_wait\u001b[0m\u001b[0;34m(\u001b[0m\u001b[0;34m)\u001b[0m\u001b[0;34m\u001b[0m\u001b[0;34m\u001b[0m\u001b[0m\n",
      "\u001b[0;32m/usr/local/lib/python3.7/dist-packages/tensorflow/python/util/traceback_utils.py\u001b[0m in \u001b[0;36merror_handler\u001b[0;34m(*args, **kwargs)\u001b[0m\n\u001b[1;32m    148\u001b[0m     \u001b[0mfiltered_tb\u001b[0m \u001b[0;34m=\u001b[0m \u001b[0;32mNone\u001b[0m\u001b[0;34m\u001b[0m\u001b[0;34m\u001b[0m\u001b[0m\n\u001b[1;32m    149\u001b[0m     \u001b[0;32mtry\u001b[0m\u001b[0;34m:\u001b[0m\u001b[0;34m\u001b[0m\u001b[0;34m\u001b[0m\u001b[0m\n\u001b[0;32m--> 150\u001b[0;31m       \u001b[0;32mreturn\u001b[0m \u001b[0mfn\u001b[0m\u001b[0;34m(\u001b[0m\u001b[0;34m*\u001b[0m\u001b[0margs\u001b[0m\u001b[0;34m,\u001b[0m \u001b[0;34m**\u001b[0m\u001b[0mkwargs\u001b[0m\u001b[0;34m)\u001b[0m\u001b[0;34m\u001b[0m\u001b[0;34m\u001b[0m\u001b[0m\n\u001b[0m\u001b[1;32m    151\u001b[0m     \u001b[0;32mexcept\u001b[0m \u001b[0mException\u001b[0m \u001b[0;32mas\u001b[0m \u001b[0me\u001b[0m\u001b[0;34m:\u001b[0m\u001b[0;34m\u001b[0m\u001b[0;34m\u001b[0m\u001b[0m\n\u001b[1;32m    152\u001b[0m       \u001b[0mfiltered_tb\u001b[0m \u001b[0;34m=\u001b[0m \u001b[0m_process_traceback_frames\u001b[0m\u001b[0;34m(\u001b[0m\u001b[0me\u001b[0m\u001b[0;34m.\u001b[0m\u001b[0m__traceback__\u001b[0m\u001b[0;34m)\u001b[0m\u001b[0;34m\u001b[0m\u001b[0;34m\u001b[0m\u001b[0m\n",
      "\u001b[0;32m/usr/local/lib/python3.7/dist-packages/tensorflow/python/eager/def_function.py\u001b[0m in \u001b[0;36m__call__\u001b[0;34m(self, *args, **kwds)\u001b[0m\n\u001b[1;32m    913\u001b[0m \u001b[0;34m\u001b[0m\u001b[0m\n\u001b[1;32m    914\u001b[0m       \u001b[0;32mwith\u001b[0m \u001b[0mOptionalXlaContext\u001b[0m\u001b[0;34m(\u001b[0m\u001b[0mself\u001b[0m\u001b[0;34m.\u001b[0m\u001b[0m_jit_compile\u001b[0m\u001b[0;34m)\u001b[0m\u001b[0;34m:\u001b[0m\u001b[0;34m\u001b[0m\u001b[0;34m\u001b[0m\u001b[0m\n\u001b[0;32m--> 915\u001b[0;31m         \u001b[0mresult\u001b[0m \u001b[0;34m=\u001b[0m \u001b[0mself\u001b[0m\u001b[0;34m.\u001b[0m\u001b[0m_call\u001b[0m\u001b[0;34m(\u001b[0m\u001b[0;34m*\u001b[0m\u001b[0margs\u001b[0m\u001b[0;34m,\u001b[0m \u001b[0;34m**\u001b[0m\u001b[0mkwds\u001b[0m\u001b[0;34m)\u001b[0m\u001b[0;34m\u001b[0m\u001b[0;34m\u001b[0m\u001b[0m\n\u001b[0m\u001b[1;32m    916\u001b[0m \u001b[0;34m\u001b[0m\u001b[0m\n\u001b[1;32m    917\u001b[0m       \u001b[0mnew_tracing_count\u001b[0m \u001b[0;34m=\u001b[0m \u001b[0mself\u001b[0m\u001b[0;34m.\u001b[0m\u001b[0mexperimental_get_tracing_count\u001b[0m\u001b[0;34m(\u001b[0m\u001b[0;34m)\u001b[0m\u001b[0;34m\u001b[0m\u001b[0;34m\u001b[0m\u001b[0m\n",
      "\u001b[0;32m/usr/local/lib/python3.7/dist-packages/tensorflow/python/eager/def_function.py\u001b[0m in \u001b[0;36m_call\u001b[0;34m(self, *args, **kwds)\u001b[0m\n\u001b[1;32m    945\u001b[0m       \u001b[0;31m# In this case we have created variables on the first call, so we run the\u001b[0m\u001b[0;34m\u001b[0m\u001b[0;34m\u001b[0m\u001b[0;34m\u001b[0m\u001b[0m\n\u001b[1;32m    946\u001b[0m       \u001b[0;31m# defunned version which is guaranteed to never create variables.\u001b[0m\u001b[0;34m\u001b[0m\u001b[0;34m\u001b[0m\u001b[0;34m\u001b[0m\u001b[0m\n\u001b[0;32m--> 947\u001b[0;31m       \u001b[0;32mreturn\u001b[0m \u001b[0mself\u001b[0m\u001b[0;34m.\u001b[0m\u001b[0m_stateless_fn\u001b[0m\u001b[0;34m(\u001b[0m\u001b[0;34m*\u001b[0m\u001b[0margs\u001b[0m\u001b[0;34m,\u001b[0m \u001b[0;34m**\u001b[0m\u001b[0mkwds\u001b[0m\u001b[0;34m)\u001b[0m  \u001b[0;31m# pylint: disable=not-callable\u001b[0m\u001b[0;34m\u001b[0m\u001b[0;34m\u001b[0m\u001b[0m\n\u001b[0m\u001b[1;32m    948\u001b[0m     \u001b[0;32melif\u001b[0m \u001b[0mself\u001b[0m\u001b[0;34m.\u001b[0m\u001b[0m_stateful_fn\u001b[0m \u001b[0;32mis\u001b[0m \u001b[0;32mnot\u001b[0m \u001b[0;32mNone\u001b[0m\u001b[0;34m:\u001b[0m\u001b[0;34m\u001b[0m\u001b[0;34m\u001b[0m\u001b[0m\n\u001b[1;32m    949\u001b[0m       \u001b[0;31m# Release the lock early so that multiple threads can perform the call\u001b[0m\u001b[0;34m\u001b[0m\u001b[0;34m\u001b[0m\u001b[0;34m\u001b[0m\u001b[0m\n",
      "\u001b[0;32m/usr/local/lib/python3.7/dist-packages/tensorflow/python/eager/function.py\u001b[0m in \u001b[0;36m__call__\u001b[0;34m(self, *args, **kwargs)\u001b[0m\n\u001b[1;32m   2955\u001b[0m        filtered_flat_args) = self._maybe_define_function(args, kwargs)\n\u001b[1;32m   2956\u001b[0m     return graph_function._call_flat(\n\u001b[0;32m-> 2957\u001b[0;31m         filtered_flat_args, captured_inputs=graph_function.captured_inputs)  # pylint: disable=protected-access\n\u001b[0m\u001b[1;32m   2958\u001b[0m \u001b[0;34m\u001b[0m\u001b[0m\n\u001b[1;32m   2959\u001b[0m   \u001b[0;34m@\u001b[0m\u001b[0mproperty\u001b[0m\u001b[0;34m\u001b[0m\u001b[0;34m\u001b[0m\u001b[0m\n",
      "\u001b[0;32m/usr/local/lib/python3.7/dist-packages/tensorflow/python/eager/function.py\u001b[0m in \u001b[0;36m_call_flat\u001b[0;34m(self, args, captured_inputs, cancellation_manager)\u001b[0m\n\u001b[1;32m   1852\u001b[0m       \u001b[0;31m# No tape is watching; skip to running the function.\u001b[0m\u001b[0;34m\u001b[0m\u001b[0;34m\u001b[0m\u001b[0;34m\u001b[0m\u001b[0m\n\u001b[1;32m   1853\u001b[0m       return self._build_call_outputs(self._inference_function.call(\n\u001b[0;32m-> 1854\u001b[0;31m           ctx, args, cancellation_manager=cancellation_manager))\n\u001b[0m\u001b[1;32m   1855\u001b[0m     forward_backward = self._select_forward_and_backward_functions(\n\u001b[1;32m   1856\u001b[0m         \u001b[0margs\u001b[0m\u001b[0;34m,\u001b[0m\u001b[0;34m\u001b[0m\u001b[0;34m\u001b[0m\u001b[0m\n",
      "\u001b[0;32m/usr/local/lib/python3.7/dist-packages/tensorflow/python/eager/function.py\u001b[0m in \u001b[0;36mcall\u001b[0;34m(self, ctx, args, cancellation_manager)\u001b[0m\n\u001b[1;32m    502\u001b[0m               \u001b[0minputs\u001b[0m\u001b[0;34m=\u001b[0m\u001b[0margs\u001b[0m\u001b[0;34m,\u001b[0m\u001b[0;34m\u001b[0m\u001b[0;34m\u001b[0m\u001b[0m\n\u001b[1;32m    503\u001b[0m               \u001b[0mattrs\u001b[0m\u001b[0;34m=\u001b[0m\u001b[0mattrs\u001b[0m\u001b[0;34m,\u001b[0m\u001b[0;34m\u001b[0m\u001b[0;34m\u001b[0m\u001b[0m\n\u001b[0;32m--> 504\u001b[0;31m               ctx=ctx)\n\u001b[0m\u001b[1;32m    505\u001b[0m         \u001b[0;32melse\u001b[0m\u001b[0;34m:\u001b[0m\u001b[0;34m\u001b[0m\u001b[0;34m\u001b[0m\u001b[0m\n\u001b[1;32m    506\u001b[0m           outputs = execute.execute_with_cancellation(\n",
      "\u001b[0;32m/usr/local/lib/python3.7/dist-packages/tensorflow/python/eager/execute.py\u001b[0m in \u001b[0;36mquick_execute\u001b[0;34m(op_name, num_outputs, inputs, attrs, ctx, name)\u001b[0m\n\u001b[1;32m     53\u001b[0m     \u001b[0mctx\u001b[0m\u001b[0;34m.\u001b[0m\u001b[0mensure_initialized\u001b[0m\u001b[0;34m(\u001b[0m\u001b[0;34m)\u001b[0m\u001b[0;34m\u001b[0m\u001b[0;34m\u001b[0m\u001b[0m\n\u001b[1;32m     54\u001b[0m     tensors = pywrap_tfe.TFE_Py_Execute(ctx._handle, device_name, op_name,\n\u001b[0;32m---> 55\u001b[0;31m                                         inputs, attrs, num_outputs)\n\u001b[0m\u001b[1;32m     56\u001b[0m   \u001b[0;32mexcept\u001b[0m \u001b[0mcore\u001b[0m\u001b[0;34m.\u001b[0m\u001b[0m_NotOkStatusException\u001b[0m \u001b[0;32mas\u001b[0m \u001b[0me\u001b[0m\u001b[0;34m:\u001b[0m\u001b[0;34m\u001b[0m\u001b[0;34m\u001b[0m\u001b[0m\n\u001b[1;32m     57\u001b[0m     \u001b[0;32mif\u001b[0m \u001b[0mname\u001b[0m \u001b[0;32mis\u001b[0m \u001b[0;32mnot\u001b[0m \u001b[0;32mNone\u001b[0m\u001b[0;34m:\u001b[0m\u001b[0;34m\u001b[0m\u001b[0;34m\u001b[0m\u001b[0m\n",
      "\u001b[0;31mKeyboardInterrupt\u001b[0m: "
     ]
    }
   ],
   "source": [
    "#Tried to train with more epochs to see if the accuracy increased, but it did not increase\n",
    "cnn5.fit(SubX_train, Suby_train, validation_data = (X_validation, y_validation), epochs = 30)\n"
   ]
  },
  {
   "cell_type": "code",
   "execution_count": 16,
   "metadata": {
    "colab": {
     "base_uri": "https://localhost:8080/",
     "height": 1000
    },
    "id": "A4rGcI680ZlU",
    "outputId": "a8af58f9-e2ca-4e27-dd79-a7f82ff4812f"
   },
   "outputs": [
    {
     "name": "stdout",
     "output_type": "stream",
     "text": [
      "Epoch 1/50\n"
     ]
    },
    {
     "name": "stderr",
     "output_type": "stream",
     "text": [
      "/usr/local/lib/python3.7/dist-packages/ipykernel_launcher.py:36: UserWarning: `Model.fit_generator` is deprecated and will be removed in a future version. Please use `Model.fit`, which supports generators.\n"
     ]
    },
    {
     "name": "stdout",
     "output_type": "stream",
     "text": [
      "1250/1250 [==============================] - 106s 84ms/step - loss: 1.9020 - accuracy: 0.2873 - val_loss: 1.6228 - val_accuracy: 0.4069\n",
      "Epoch 2/50\n",
      "1250/1250 [==============================] - 105s 84ms/step - loss: 1.6384 - accuracy: 0.3977 - val_loss: 1.6388 - val_accuracy: 0.4172\n",
      "Epoch 3/50\n",
      "1250/1250 [==============================] - 105s 84ms/step - loss: 1.5349 - accuracy: 0.4336 - val_loss: 1.3952 - val_accuracy: 0.4977\n",
      "Epoch 4/50\n",
      "1250/1250 [==============================] - 105s 84ms/step - loss: 1.4543 - accuracy: 0.4715 - val_loss: 1.2913 - val_accuracy: 0.5308\n",
      "Epoch 5/50\n",
      "1250/1250 [==============================] - 104s 83ms/step - loss: 1.4080 - accuracy: 0.4891 - val_loss: 1.3201 - val_accuracy: 0.5272\n",
      "Epoch 6/50\n",
      "1250/1250 [==============================] - 107s 86ms/step - loss: 1.3620 - accuracy: 0.5081 - val_loss: 1.2040 - val_accuracy: 0.5623\n",
      "Epoch 7/50\n",
      "1250/1250 [==============================] - 105s 84ms/step - loss: 1.3165 - accuracy: 0.5229 - val_loss: 1.1740 - val_accuracy: 0.5823\n",
      "Epoch 8/50\n",
      "1250/1250 [==============================] - 105s 84ms/step - loss: 1.2896 - accuracy: 0.5349 - val_loss: 1.2037 - val_accuracy: 0.5664\n",
      "Epoch 9/50\n",
      "1250/1250 [==============================] - 105s 84ms/step - loss: 1.2628 - accuracy: 0.5442 - val_loss: 1.1226 - val_accuracy: 0.6006\n",
      "Epoch 10/50\n",
      "1250/1250 [==============================] - 105s 84ms/step - loss: 1.2465 - accuracy: 0.5543 - val_loss: 1.0724 - val_accuracy: 0.6239\n",
      "Epoch 11/50\n",
      "1250/1250 [==============================] - 105s 84ms/step - loss: 1.2230 - accuracy: 0.5660 - val_loss: 1.0821 - val_accuracy: 0.6265\n",
      "Epoch 12/50\n",
      "1250/1250 [==============================] - 106s 84ms/step - loss: 1.1986 - accuracy: 0.5762 - val_loss: 1.0817 - val_accuracy: 0.6162\n",
      "Epoch 13/50\n",
      "1250/1250 [==============================] - 106s 84ms/step - loss: 1.1872 - accuracy: 0.5788 - val_loss: 1.0518 - val_accuracy: 0.6302\n",
      "Epoch 14/50\n",
      "1250/1250 [==============================] - 102s 82ms/step - loss: 1.1697 - accuracy: 0.5883 - val_loss: 1.0100 - val_accuracy: 0.6407\n",
      "Epoch 15/50\n",
      "1250/1250 [==============================] - 105s 84ms/step - loss: 1.1523 - accuracy: 0.5942 - val_loss: 1.0054 - val_accuracy: 0.6457\n",
      "Epoch 16/50\n",
      "1250/1250 [==============================] - 104s 83ms/step - loss: 1.1310 - accuracy: 0.5994 - val_loss: 1.1999 - val_accuracy: 0.5883\n",
      "Epoch 17/50\n",
      "1250/1250 [==============================] - 106s 85ms/step - loss: 1.1334 - accuracy: 0.5976 - val_loss: 1.1483 - val_accuracy: 0.6184\n",
      "Epoch 18/50\n",
      "1250/1250 [==============================] - 109s 88ms/step - loss: 1.1173 - accuracy: 0.6069 - val_loss: 0.9630 - val_accuracy: 0.6599\n",
      "Epoch 19/50\n",
      "1250/1250 [==============================] - 110s 88ms/step - loss: 1.0967 - accuracy: 0.6157 - val_loss: 0.9782 - val_accuracy: 0.6545\n",
      "Epoch 20/50\n",
      "1250/1250 [==============================] - 109s 87ms/step - loss: 1.0987 - accuracy: 0.6136 - val_loss: 1.0618 - val_accuracy: 0.6384\n",
      "Epoch 21/50\n",
      "1250/1250 [==============================] - 112s 89ms/step - loss: 1.0819 - accuracy: 0.6194 - val_loss: 1.0908 - val_accuracy: 0.6271\n",
      "Epoch 22/50\n",
      "1250/1250 [==============================] - 108s 87ms/step - loss: 1.0796 - accuracy: 0.6239 - val_loss: 0.9925 - val_accuracy: 0.6486\n",
      "Epoch 23/50\n",
      "1250/1250 [==============================] - 108s 87ms/step - loss: 1.0709 - accuracy: 0.6265 - val_loss: 0.9631 - val_accuracy: 0.6732\n",
      "Epoch 24/50\n",
      "1250/1250 [==============================] - 110s 88ms/step - loss: 1.0662 - accuracy: 0.6256 - val_loss: 0.9031 - val_accuracy: 0.6901\n",
      "Epoch 25/50\n",
      "1250/1250 [==============================] - 111s 89ms/step - loss: 1.0486 - accuracy: 0.6334 - val_loss: 0.9715 - val_accuracy: 0.6634\n",
      "Epoch 26/50\n",
      "1250/1250 [==============================] - 111s 89ms/step - loss: 1.0447 - accuracy: 0.6375 - val_loss: 0.8721 - val_accuracy: 0.6975\n",
      "Epoch 27/50\n",
      "1250/1250 [==============================] - 108s 86ms/step - loss: 1.0391 - accuracy: 0.6344 - val_loss: 1.0198 - val_accuracy: 0.6430\n",
      "Epoch 28/50\n",
      "  25/1250 [..............................] - ETA: 1:42 - loss: 0.9723 - accuracy: 0.6600"
     ]
    },
    {
     "ename": "KeyboardInterrupt",
     "evalue": "ignored",
     "output_type": "error",
     "traceback": [
      "\u001b[0;31m---------------------------------------------------------------------------\u001b[0m",
      "\u001b[0;31mKeyboardInterrupt\u001b[0m                         Traceback (most recent call last)",
      "\u001b[0;32m<ipython-input-16-602ac41ab621>\u001b[0m in \u001b[0;36m<module>\u001b[0;34m()\u001b[0m\n\u001b[1;32m     34\u001b[0m history = cnn6.fit_generator(datagen.flow(SubX_train, Suby_train),\n\u001b[1;32m     35\u001b[0m                              \u001b[0mepochs\u001b[0m \u001b[0;34m=\u001b[0m \u001b[0;36m50\u001b[0m\u001b[0;34m,\u001b[0m\u001b[0;34m\u001b[0m\u001b[0;34m\u001b[0m\u001b[0m\n\u001b[0;32m---> 36\u001b[0;31m                              \u001b[0mvalidation_data\u001b[0m \u001b[0;34m=\u001b[0m \u001b[0;34m(\u001b[0m\u001b[0mX_validation\u001b[0m\u001b[0;34m,\u001b[0m \u001b[0my_validation\u001b[0m\u001b[0;34m)\u001b[0m\u001b[0;34m,\u001b[0m\u001b[0;34m\u001b[0m\u001b[0;34m\u001b[0m\u001b[0m\n\u001b[0m\u001b[1;32m     37\u001b[0m \u001b[0;34m\u001b[0m\u001b[0m\n\u001b[1;32m     38\u001b[0m                              )\n",
      "\u001b[0;32m/usr/local/lib/python3.7/dist-packages/keras/engine/training.py\u001b[0m in \u001b[0;36mfit_generator\u001b[0;34m(self, generator, steps_per_epoch, epochs, verbose, callbacks, validation_data, validation_steps, validation_freq, class_weight, max_queue_size, workers, use_multiprocessing, shuffle, initial_epoch)\u001b[0m\n\u001b[1;32m   2221\u001b[0m         \u001b[0muse_multiprocessing\u001b[0m\u001b[0;34m=\u001b[0m\u001b[0muse_multiprocessing\u001b[0m\u001b[0;34m,\u001b[0m\u001b[0;34m\u001b[0m\u001b[0;34m\u001b[0m\u001b[0m\n\u001b[1;32m   2222\u001b[0m         \u001b[0mshuffle\u001b[0m\u001b[0;34m=\u001b[0m\u001b[0mshuffle\u001b[0m\u001b[0;34m,\u001b[0m\u001b[0;34m\u001b[0m\u001b[0;34m\u001b[0m\u001b[0m\n\u001b[0;32m-> 2223\u001b[0;31m         initial_epoch=initial_epoch)\n\u001b[0m\u001b[1;32m   2224\u001b[0m \u001b[0;34m\u001b[0m\u001b[0m\n\u001b[1;32m   2225\u001b[0m   \u001b[0;34m@\u001b[0m\u001b[0mdoc_controls\u001b[0m\u001b[0;34m.\u001b[0m\u001b[0mdo_not_generate_docs\u001b[0m\u001b[0;34m\u001b[0m\u001b[0;34m\u001b[0m\u001b[0m\n",
      "\u001b[0;32m/usr/local/lib/python3.7/dist-packages/keras/utils/traceback_utils.py\u001b[0m in \u001b[0;36merror_handler\u001b[0;34m(*args, **kwargs)\u001b[0m\n\u001b[1;32m     62\u001b[0m     \u001b[0mfiltered_tb\u001b[0m \u001b[0;34m=\u001b[0m \u001b[0;32mNone\u001b[0m\u001b[0;34m\u001b[0m\u001b[0;34m\u001b[0m\u001b[0m\n\u001b[1;32m     63\u001b[0m     \u001b[0;32mtry\u001b[0m\u001b[0;34m:\u001b[0m\u001b[0;34m\u001b[0m\u001b[0;34m\u001b[0m\u001b[0m\n\u001b[0;32m---> 64\u001b[0;31m       \u001b[0;32mreturn\u001b[0m \u001b[0mfn\u001b[0m\u001b[0;34m(\u001b[0m\u001b[0;34m*\u001b[0m\u001b[0margs\u001b[0m\u001b[0;34m,\u001b[0m \u001b[0;34m**\u001b[0m\u001b[0mkwargs\u001b[0m\u001b[0;34m)\u001b[0m\u001b[0;34m\u001b[0m\u001b[0;34m\u001b[0m\u001b[0m\n\u001b[0m\u001b[1;32m     65\u001b[0m     \u001b[0;32mexcept\u001b[0m \u001b[0mException\u001b[0m \u001b[0;32mas\u001b[0m \u001b[0me\u001b[0m\u001b[0;34m:\u001b[0m  \u001b[0;31m# pylint: disable=broad-except\u001b[0m\u001b[0;34m\u001b[0m\u001b[0;34m\u001b[0m\u001b[0m\n\u001b[1;32m     66\u001b[0m       \u001b[0mfiltered_tb\u001b[0m \u001b[0;34m=\u001b[0m \u001b[0m_process_traceback_frames\u001b[0m\u001b[0;34m(\u001b[0m\u001b[0me\u001b[0m\u001b[0;34m.\u001b[0m\u001b[0m__traceback__\u001b[0m\u001b[0;34m)\u001b[0m\u001b[0;34m\u001b[0m\u001b[0;34m\u001b[0m\u001b[0m\n",
      "\u001b[0;32m/usr/local/lib/python3.7/dist-packages/keras/engine/training.py\u001b[0m in \u001b[0;36mfit\u001b[0;34m(self, x, y, batch_size, epochs, verbose, callbacks, validation_split, validation_data, shuffle, class_weight, sample_weight, initial_epoch, steps_per_epoch, validation_steps, validation_batch_size, validation_freq, max_queue_size, workers, use_multiprocessing)\u001b[0m\n\u001b[1;32m   1382\u001b[0m                 _r=1):\n\u001b[1;32m   1383\u001b[0m               \u001b[0mcallbacks\u001b[0m\u001b[0;34m.\u001b[0m\u001b[0mon_train_batch_begin\u001b[0m\u001b[0;34m(\u001b[0m\u001b[0mstep\u001b[0m\u001b[0;34m)\u001b[0m\u001b[0;34m\u001b[0m\u001b[0;34m\u001b[0m\u001b[0m\n\u001b[0;32m-> 1384\u001b[0;31m               \u001b[0mtmp_logs\u001b[0m \u001b[0;34m=\u001b[0m \u001b[0mself\u001b[0m\u001b[0;34m.\u001b[0m\u001b[0mtrain_function\u001b[0m\u001b[0;34m(\u001b[0m\u001b[0miterator\u001b[0m\u001b[0;34m)\u001b[0m\u001b[0;34m\u001b[0m\u001b[0;34m\u001b[0m\u001b[0m\n\u001b[0m\u001b[1;32m   1385\u001b[0m               \u001b[0;32mif\u001b[0m \u001b[0mdata_handler\u001b[0m\u001b[0;34m.\u001b[0m\u001b[0mshould_sync\u001b[0m\u001b[0;34m:\u001b[0m\u001b[0;34m\u001b[0m\u001b[0;34m\u001b[0m\u001b[0m\n\u001b[1;32m   1386\u001b[0m                 \u001b[0mcontext\u001b[0m\u001b[0;34m.\u001b[0m\u001b[0masync_wait\u001b[0m\u001b[0;34m(\u001b[0m\u001b[0;34m)\u001b[0m\u001b[0;34m\u001b[0m\u001b[0;34m\u001b[0m\u001b[0m\n",
      "\u001b[0;32m/usr/local/lib/python3.7/dist-packages/tensorflow/python/util/traceback_utils.py\u001b[0m in \u001b[0;36merror_handler\u001b[0;34m(*args, **kwargs)\u001b[0m\n\u001b[1;32m    148\u001b[0m     \u001b[0mfiltered_tb\u001b[0m \u001b[0;34m=\u001b[0m \u001b[0;32mNone\u001b[0m\u001b[0;34m\u001b[0m\u001b[0;34m\u001b[0m\u001b[0m\n\u001b[1;32m    149\u001b[0m     \u001b[0;32mtry\u001b[0m\u001b[0;34m:\u001b[0m\u001b[0;34m\u001b[0m\u001b[0;34m\u001b[0m\u001b[0m\n\u001b[0;32m--> 150\u001b[0;31m       \u001b[0;32mreturn\u001b[0m \u001b[0mfn\u001b[0m\u001b[0;34m(\u001b[0m\u001b[0;34m*\u001b[0m\u001b[0margs\u001b[0m\u001b[0;34m,\u001b[0m \u001b[0;34m**\u001b[0m\u001b[0mkwargs\u001b[0m\u001b[0;34m)\u001b[0m\u001b[0;34m\u001b[0m\u001b[0;34m\u001b[0m\u001b[0m\n\u001b[0m\u001b[1;32m    151\u001b[0m     \u001b[0;32mexcept\u001b[0m \u001b[0mException\u001b[0m \u001b[0;32mas\u001b[0m \u001b[0me\u001b[0m\u001b[0;34m:\u001b[0m\u001b[0;34m\u001b[0m\u001b[0;34m\u001b[0m\u001b[0m\n\u001b[1;32m    152\u001b[0m       \u001b[0mfiltered_tb\u001b[0m \u001b[0;34m=\u001b[0m \u001b[0m_process_traceback_frames\u001b[0m\u001b[0;34m(\u001b[0m\u001b[0me\u001b[0m\u001b[0;34m.\u001b[0m\u001b[0m__traceback__\u001b[0m\u001b[0;34m)\u001b[0m\u001b[0;34m\u001b[0m\u001b[0;34m\u001b[0m\u001b[0m\n",
      "\u001b[0;32m/usr/local/lib/python3.7/dist-packages/tensorflow/python/eager/def_function.py\u001b[0m in \u001b[0;36m__call__\u001b[0;34m(self, *args, **kwds)\u001b[0m\n\u001b[1;32m    913\u001b[0m \u001b[0;34m\u001b[0m\u001b[0m\n\u001b[1;32m    914\u001b[0m       \u001b[0;32mwith\u001b[0m \u001b[0mOptionalXlaContext\u001b[0m\u001b[0;34m(\u001b[0m\u001b[0mself\u001b[0m\u001b[0;34m.\u001b[0m\u001b[0m_jit_compile\u001b[0m\u001b[0;34m)\u001b[0m\u001b[0;34m:\u001b[0m\u001b[0;34m\u001b[0m\u001b[0;34m\u001b[0m\u001b[0m\n\u001b[0;32m--> 915\u001b[0;31m         \u001b[0mresult\u001b[0m \u001b[0;34m=\u001b[0m \u001b[0mself\u001b[0m\u001b[0;34m.\u001b[0m\u001b[0m_call\u001b[0m\u001b[0;34m(\u001b[0m\u001b[0;34m*\u001b[0m\u001b[0margs\u001b[0m\u001b[0;34m,\u001b[0m \u001b[0;34m**\u001b[0m\u001b[0mkwds\u001b[0m\u001b[0;34m)\u001b[0m\u001b[0;34m\u001b[0m\u001b[0;34m\u001b[0m\u001b[0m\n\u001b[0m\u001b[1;32m    916\u001b[0m \u001b[0;34m\u001b[0m\u001b[0m\n\u001b[1;32m    917\u001b[0m       \u001b[0mnew_tracing_count\u001b[0m \u001b[0;34m=\u001b[0m \u001b[0mself\u001b[0m\u001b[0;34m.\u001b[0m\u001b[0mexperimental_get_tracing_count\u001b[0m\u001b[0;34m(\u001b[0m\u001b[0;34m)\u001b[0m\u001b[0;34m\u001b[0m\u001b[0;34m\u001b[0m\u001b[0m\n",
      "\u001b[0;32m/usr/local/lib/python3.7/dist-packages/tensorflow/python/eager/def_function.py\u001b[0m in \u001b[0;36m_call\u001b[0;34m(self, *args, **kwds)\u001b[0m\n\u001b[1;32m    945\u001b[0m       \u001b[0;31m# In this case we have created variables on the first call, so we run the\u001b[0m\u001b[0;34m\u001b[0m\u001b[0;34m\u001b[0m\u001b[0;34m\u001b[0m\u001b[0m\n\u001b[1;32m    946\u001b[0m       \u001b[0;31m# defunned version which is guaranteed to never create variables.\u001b[0m\u001b[0;34m\u001b[0m\u001b[0;34m\u001b[0m\u001b[0;34m\u001b[0m\u001b[0m\n\u001b[0;32m--> 947\u001b[0;31m       \u001b[0;32mreturn\u001b[0m \u001b[0mself\u001b[0m\u001b[0;34m.\u001b[0m\u001b[0m_stateless_fn\u001b[0m\u001b[0;34m(\u001b[0m\u001b[0;34m*\u001b[0m\u001b[0margs\u001b[0m\u001b[0;34m,\u001b[0m \u001b[0;34m**\u001b[0m\u001b[0mkwds\u001b[0m\u001b[0;34m)\u001b[0m  \u001b[0;31m# pylint: disable=not-callable\u001b[0m\u001b[0;34m\u001b[0m\u001b[0;34m\u001b[0m\u001b[0m\n\u001b[0m\u001b[1;32m    948\u001b[0m     \u001b[0;32melif\u001b[0m \u001b[0mself\u001b[0m\u001b[0;34m.\u001b[0m\u001b[0m_stateful_fn\u001b[0m \u001b[0;32mis\u001b[0m \u001b[0;32mnot\u001b[0m \u001b[0;32mNone\u001b[0m\u001b[0;34m:\u001b[0m\u001b[0;34m\u001b[0m\u001b[0;34m\u001b[0m\u001b[0m\n\u001b[1;32m    949\u001b[0m       \u001b[0;31m# Release the lock early so that multiple threads can perform the call\u001b[0m\u001b[0;34m\u001b[0m\u001b[0;34m\u001b[0m\u001b[0;34m\u001b[0m\u001b[0m\n",
      "\u001b[0;32m/usr/local/lib/python3.7/dist-packages/tensorflow/python/eager/function.py\u001b[0m in \u001b[0;36m__call__\u001b[0;34m(self, *args, **kwargs)\u001b[0m\n\u001b[1;32m   2955\u001b[0m        filtered_flat_args) = self._maybe_define_function(args, kwargs)\n\u001b[1;32m   2956\u001b[0m     return graph_function._call_flat(\n\u001b[0;32m-> 2957\u001b[0;31m         filtered_flat_args, captured_inputs=graph_function.captured_inputs)  # pylint: disable=protected-access\n\u001b[0m\u001b[1;32m   2958\u001b[0m \u001b[0;34m\u001b[0m\u001b[0m\n\u001b[1;32m   2959\u001b[0m   \u001b[0;34m@\u001b[0m\u001b[0mproperty\u001b[0m\u001b[0;34m\u001b[0m\u001b[0;34m\u001b[0m\u001b[0m\n",
      "\u001b[0;32m/usr/local/lib/python3.7/dist-packages/tensorflow/python/eager/function.py\u001b[0m in \u001b[0;36m_call_flat\u001b[0;34m(self, args, captured_inputs, cancellation_manager)\u001b[0m\n\u001b[1;32m   1852\u001b[0m       \u001b[0;31m# No tape is watching; skip to running the function.\u001b[0m\u001b[0;34m\u001b[0m\u001b[0;34m\u001b[0m\u001b[0;34m\u001b[0m\u001b[0m\n\u001b[1;32m   1853\u001b[0m       return self._build_call_outputs(self._inference_function.call(\n\u001b[0;32m-> 1854\u001b[0;31m           ctx, args, cancellation_manager=cancellation_manager))\n\u001b[0m\u001b[1;32m   1855\u001b[0m     forward_backward = self._select_forward_and_backward_functions(\n\u001b[1;32m   1856\u001b[0m         \u001b[0margs\u001b[0m\u001b[0;34m,\u001b[0m\u001b[0;34m\u001b[0m\u001b[0;34m\u001b[0m\u001b[0m\n",
      "\u001b[0;32m/usr/local/lib/python3.7/dist-packages/tensorflow/python/eager/function.py\u001b[0m in \u001b[0;36mcall\u001b[0;34m(self, ctx, args, cancellation_manager)\u001b[0m\n\u001b[1;32m    502\u001b[0m               \u001b[0minputs\u001b[0m\u001b[0;34m=\u001b[0m\u001b[0margs\u001b[0m\u001b[0;34m,\u001b[0m\u001b[0;34m\u001b[0m\u001b[0;34m\u001b[0m\u001b[0m\n\u001b[1;32m    503\u001b[0m               \u001b[0mattrs\u001b[0m\u001b[0;34m=\u001b[0m\u001b[0mattrs\u001b[0m\u001b[0;34m,\u001b[0m\u001b[0;34m\u001b[0m\u001b[0;34m\u001b[0m\u001b[0m\n\u001b[0;32m--> 504\u001b[0;31m               ctx=ctx)\n\u001b[0m\u001b[1;32m    505\u001b[0m         \u001b[0;32melse\u001b[0m\u001b[0;34m:\u001b[0m\u001b[0;34m\u001b[0m\u001b[0;34m\u001b[0m\u001b[0m\n\u001b[1;32m    506\u001b[0m           outputs = execute.execute_with_cancellation(\n",
      "\u001b[0;32m/usr/local/lib/python3.7/dist-packages/tensorflow/python/eager/execute.py\u001b[0m in \u001b[0;36mquick_execute\u001b[0;34m(op_name, num_outputs, inputs, attrs, ctx, name)\u001b[0m\n\u001b[1;32m     53\u001b[0m     \u001b[0mctx\u001b[0m\u001b[0;34m.\u001b[0m\u001b[0mensure_initialized\u001b[0m\u001b[0;34m(\u001b[0m\u001b[0;34m)\u001b[0m\u001b[0;34m\u001b[0m\u001b[0;34m\u001b[0m\u001b[0m\n\u001b[1;32m     54\u001b[0m     tensors = pywrap_tfe.TFE_Py_Execute(ctx._handle, device_name, op_name,\n\u001b[0;32m---> 55\u001b[0;31m                                         inputs, attrs, num_outputs)\n\u001b[0m\u001b[1;32m     56\u001b[0m   \u001b[0;32mexcept\u001b[0m \u001b[0mcore\u001b[0m\u001b[0;34m.\u001b[0m\u001b[0m_NotOkStatusException\u001b[0m \u001b[0;32mas\u001b[0m \u001b[0me\u001b[0m\u001b[0;34m:\u001b[0m\u001b[0;34m\u001b[0m\u001b[0;34m\u001b[0m\u001b[0m\n\u001b[1;32m     57\u001b[0m     \u001b[0;32mif\u001b[0m \u001b[0mname\u001b[0m \u001b[0;32mis\u001b[0m \u001b[0;32mnot\u001b[0m \u001b[0;32mNone\u001b[0m\u001b[0;34m:\u001b[0m\u001b[0;34m\u001b[0m\u001b[0;34m\u001b[0m\u001b[0m\n",
      "\u001b[0;31mKeyboardInterrupt\u001b[0m: "
     ]
    }
   ],
   "source": [
    "#CNN6 with data augmentation\n",
    "cnn6 = models.Sequential([\n",
    "                         layers.Conv2D(filters=32, kernel_size=(3,3), activation = 'relu', input_shape=(32,32,3), padding = 'same'), \n",
    "                         layers.MaxPooling2D((2,2)),\n",
    "\n",
    "                         layers.Conv2D(filters=32, kernel_size=(3,3), activation ='relu'),\n",
    "                         layers.Conv2D(filters=32, kernel_size=(3,3), activation ='relu'),\n",
    "                         layers.MaxPooling2D((2,2)),\n",
    "                         layers.Dropout(0.25),\n",
    "                         layers.Conv2D(64, (3,3), padding = 'same', activation = 'relu'),\n",
    "                         layers.Conv2D(64, (3,3), padding = 'same', activation = 'relu'),\n",
    "                         layers.Conv2D(64, (3,3), activation = 'relu'),\n",
    "                         layers.MaxPooling2D((2,2)),\n",
    "                         layers.Dropout(0.25),\n",
    "                          \n",
    "                         layers.Flatten(),\n",
    "                         layers.Dense(64, activation='relu'),\n",
    "                         layers.Dense(32, activation ='relu'),\n",
    "                         layers.Dense(10, activation ='softmax')\n",
    "])\n",
    "\n",
    "cnn6.compile(optimizer = 'adam',\n",
    "            loss = 'categorical_crossentropy',\n",
    "            metrics = ['accuracy'])\n",
    "from keras.preprocessing.image import ImageDataGenerator\n",
    "datagen = ImageDataGenerator(\n",
    "    rescale = None,\n",
    "    rotation_range = 40,\n",
    "    width_shift_range = 0.1, \n",
    "    height_shift_range = 0.1,\n",
    "    shear_range = 0.2,\n",
    "    horizontal_flip = True    \n",
    ")\n",
    "datagen.fit(X_train)\n",
    "history = cnn6.fit_generator(datagen.flow(SubX_train, Suby_train),\n",
    "                             epochs = 50, \n",
    "                             validation_data = (X_validation, y_validation),\n",
    "                             \n",
    "                             )\n",
    "\n"
   ]
  },
  {
   "cell_type": "code",
   "execution_count": 17,
   "metadata": {
    "colab": {
     "base_uri": "https://localhost:8080/"
    },
    "id": "NVLjKDoxF-vv",
    "outputId": "29424dc2-4e20-44c2-a26a-86b00ed6b9b1"
   },
   "outputs": [
    {
     "name": "stdout",
     "output_type": "stream",
     "text": [
      "Epoch 1/30\n",
      "1250/1250 [==============================] - 83s 66ms/step - loss: 1.8058 - accuracy: 0.3115 - val_loss: 1.4841 - val_accuracy: 0.4480\n",
      "Epoch 2/30\n",
      "1250/1250 [==============================] - 90s 72ms/step - loss: 1.4213 - accuracy: 0.4742 - val_loss: 1.3239 - val_accuracy: 0.5201\n",
      "Epoch 3/30\n",
      "1250/1250 [==============================] - 91s 73ms/step - loss: 1.2396 - accuracy: 0.5560 - val_loss: 1.1918 - val_accuracy: 0.5701\n",
      "Epoch 4/30\n",
      "1250/1250 [==============================] - 90s 72ms/step - loss: 1.1176 - accuracy: 0.5982 - val_loss: 1.1296 - val_accuracy: 0.6075\n",
      "Epoch 5/30\n",
      "1250/1250 [==============================] - 96s 77ms/step - loss: 1.0265 - accuracy: 0.6379 - val_loss: 1.0240 - val_accuracy: 0.6381\n",
      "Epoch 6/30\n",
      "1250/1250 [==============================] - 99s 79ms/step - loss: 0.9708 - accuracy: 0.6557 - val_loss: 0.9546 - val_accuracy: 0.6717\n",
      "Epoch 7/30\n",
      "1250/1250 [==============================] - 91s 73ms/step - loss: 0.9237 - accuracy: 0.6728 - val_loss: 0.9453 - val_accuracy: 0.6743\n",
      "Epoch 8/30\n",
      "1250/1250 [==============================] - 91s 73ms/step - loss: 0.8776 - accuracy: 0.6895 - val_loss: 0.8700 - val_accuracy: 0.7002\n",
      "Epoch 9/30\n",
      "1250/1250 [==============================] - 94s 75ms/step - loss: 0.8426 - accuracy: 0.7029 - val_loss: 0.8840 - val_accuracy: 0.7018\n",
      "Epoch 10/30\n",
      "1250/1250 [==============================] - 98s 78ms/step - loss: 0.8189 - accuracy: 0.7123 - val_loss: 0.9233 - val_accuracy: 0.6774\n",
      "Epoch 11/30\n",
      "1250/1250 [==============================] - 98s 78ms/step - loss: 0.7833 - accuracy: 0.7272 - val_loss: 0.8319 - val_accuracy: 0.7131\n",
      "Epoch 12/30\n",
      "1250/1250 [==============================] - 96s 77ms/step - loss: 0.7627 - accuracy: 0.7363 - val_loss: 0.8291 - val_accuracy: 0.7150\n",
      "Epoch 13/30\n",
      "1250/1250 [==============================] - 100s 80ms/step - loss: 0.7436 - accuracy: 0.7392 - val_loss: 0.8283 - val_accuracy: 0.7217\n",
      "Epoch 14/30\n",
      "1250/1250 [==============================] - 100s 80ms/step - loss: 0.7260 - accuracy: 0.7466 - val_loss: 0.8114 - val_accuracy: 0.7235\n",
      "Epoch 15/30\n",
      "1250/1250 [==============================] - 102s 82ms/step - loss: 0.7109 - accuracy: 0.7513 - val_loss: 0.7945 - val_accuracy: 0.7295\n",
      "Epoch 16/30\n",
      "1250/1250 [==============================] - 97s 78ms/step - loss: 0.6932 - accuracy: 0.7571 - val_loss: 0.8061 - val_accuracy: 0.7276\n",
      "Epoch 17/30\n",
      "1250/1250 [==============================] - 98s 79ms/step - loss: 0.6860 - accuracy: 0.7610 - val_loss: 0.7591 - val_accuracy: 0.7473\n",
      "Epoch 18/30\n",
      "1250/1250 [==============================] - 99s 79ms/step - loss: 0.6593 - accuracy: 0.7682 - val_loss: 0.7776 - val_accuracy: 0.7380\n",
      "Epoch 19/30\n",
      "1250/1250 [==============================] - 104s 83ms/step - loss: 0.6515 - accuracy: 0.7760 - val_loss: 0.7574 - val_accuracy: 0.7423\n",
      "Epoch 20/30\n",
      "1250/1250 [==============================] - 98s 78ms/step - loss: 0.6425 - accuracy: 0.7758 - val_loss: 0.7581 - val_accuracy: 0.7453\n",
      "Epoch 21/30\n",
      "1250/1250 [==============================] - 98s 78ms/step - loss: 0.6282 - accuracy: 0.7786 - val_loss: 0.8121 - val_accuracy: 0.7240\n",
      "Epoch 22/30\n",
      "1250/1250 [==============================] - 98s 78ms/step - loss: 0.6202 - accuracy: 0.7832 - val_loss: 0.8033 - val_accuracy: 0.7349\n",
      "Epoch 23/30\n",
      "1250/1250 [==============================] - 99s 80ms/step - loss: 0.6166 - accuracy: 0.7845 - val_loss: 0.7816 - val_accuracy: 0.7353\n",
      "Epoch 24/30\n",
      "1250/1250 [==============================] - 96s 77ms/step - loss: 0.6058 - accuracy: 0.7872 - val_loss: 0.7575 - val_accuracy: 0.7440\n",
      "Epoch 25/30\n",
      "1250/1250 [==============================] - 97s 78ms/step - loss: 0.5977 - accuracy: 0.7899 - val_loss: 0.7849 - val_accuracy: 0.7432\n",
      "Epoch 26/30\n",
      "1250/1250 [==============================] - 98s 79ms/step - loss: 0.5860 - accuracy: 0.7979 - val_loss: 0.7453 - val_accuracy: 0.7463\n",
      "Epoch 27/30\n",
      "1250/1250 [==============================] - 98s 79ms/step - loss: 0.5813 - accuracy: 0.7957 - val_loss: 0.7776 - val_accuracy: 0.7426\n",
      "Epoch 28/30\n",
      "1250/1250 [==============================] - 98s 79ms/step - loss: 0.5741 - accuracy: 0.8001 - val_loss: 0.7545 - val_accuracy: 0.7473\n",
      "Epoch 29/30\n",
      "1250/1250 [==============================] - 100s 80ms/step - loss: 0.5703 - accuracy: 0.8023 - val_loss: 0.7570 - val_accuracy: 0.7543\n",
      "Epoch 30/30\n",
      "1250/1250 [==============================] - 103s 82ms/step - loss: 0.5594 - accuracy: 0.8059 - val_loss: 0.7457 - val_accuracy: 0.7551\n"
     ]
    },
    {
     "data": {
      "text/plain": [
       "<keras.callbacks.History at 0x7f76f3db8f90>"
      ]
     },
     "execution_count": 17,
     "metadata": {},
     "output_type": "execute_result"
    }
   ],
   "source": [
    "#Without data augmentation\n",
    "cnn6 = models.Sequential([\n",
    "                         layers.Conv2D(filters=32, kernel_size=(3,3), activation = 'relu', input_shape=(32,32,3), padding = 'same'), \n",
    "                         layers.MaxPooling2D((2,2)),\n",
    "\n",
    "                         layers.Conv2D(filters=32, kernel_size=(3,3), activation ='relu'),\n",
    "                         layers.Conv2D(filters=32, kernel_size=(3,3), activation ='relu'),\n",
    "                         layers.MaxPooling2D((2,2)),\n",
    "                         layers.Dropout(0.25),\n",
    "                         layers.Conv2D(64, (3,3), padding = 'same', activation = 'relu'),\n",
    "                         layers.Conv2D(64, (3,3), padding = 'same', activation = 'relu'),\n",
    "                         layers.Conv2D(64, (3,3), activation = 'relu'),\n",
    "                         layers.MaxPooling2D((2,2)),\n",
    "                         layers.Dropout(0.25),\n",
    "                          \n",
    "                         layers.Flatten(),\n",
    "                         layers.Dense(64, activation='relu'),\n",
    "                         layers.Dense(32, activation ='relu'),\n",
    "                         layers.Dense(10, activation ='softmax')\n",
    "])\n",
    "\n",
    "cnn6.compile(optimizer = 'adam',\n",
    "            loss = 'categorical_crossentropy',\n",
    "            metrics = ['accuracy'])\n",
    "cnn6.fit(SubX_train, Suby_train, validation_data = (X_validation, y_validation), epochs = 30)\n",
    "\n"
   ]
  },
  {
   "cell_type": "code",
   "execution_count": 18,
   "metadata": {
    "colab": {
     "base_uri": "https://localhost:8080/"
    },
    "id": "azDpyp0CRja_",
    "outputId": "52755c40-e407-48af-f873-41d71c2bac16"
   },
   "outputs": [
    {
     "name": "stdout",
     "output_type": "stream",
     "text": [
      "Epoch 1/20\n",
      "1250/1250 [==============================] - 98s 79ms/step - loss: 0.5587 - accuracy: 0.8057 - val_loss: 0.7571 - val_accuracy: 0.7499\n",
      "Epoch 2/20\n",
      "1250/1250 [==============================] - 98s 79ms/step - loss: 0.5448 - accuracy: 0.8110 - val_loss: 0.7625 - val_accuracy: 0.7550\n",
      "Epoch 3/20\n",
      "1250/1250 [==============================] - 94s 75ms/step - loss: 0.5461 - accuracy: 0.8061 - val_loss: 0.7808 - val_accuracy: 0.7430\n",
      "Epoch 4/20\n",
      "1250/1250 [==============================] - 95s 76ms/step - loss: 0.5324 - accuracy: 0.8134 - val_loss: 0.7460 - val_accuracy: 0.7538\n",
      "Epoch 5/20\n",
      "1250/1250 [==============================] - 97s 78ms/step - loss: 0.5296 - accuracy: 0.8160 - val_loss: 0.7337 - val_accuracy: 0.7595\n",
      "Epoch 6/20\n",
      "1250/1250 [==============================] - 97s 78ms/step - loss: 0.5213 - accuracy: 0.8192 - val_loss: 0.7599 - val_accuracy: 0.7502\n",
      "Epoch 7/20\n",
      "1250/1250 [==============================] - 98s 79ms/step - loss: 0.5185 - accuracy: 0.8191 - val_loss: 0.7922 - val_accuracy: 0.7460\n",
      "Epoch 8/20\n",
      "1250/1250 [==============================] - 103s 82ms/step - loss: 0.5056 - accuracy: 0.8226 - val_loss: 0.7535 - val_accuracy: 0.7546\n",
      "Epoch 9/20\n",
      "1250/1250 [==============================] - 97s 78ms/step - loss: 0.5169 - accuracy: 0.8195 - val_loss: 0.7560 - val_accuracy: 0.7612\n",
      "Epoch 10/20\n",
      "1250/1250 [==============================] - 95s 76ms/step - loss: 0.5116 - accuracy: 0.8238 - val_loss: 0.7627 - val_accuracy: 0.7581\n",
      "Epoch 11/20\n",
      "1250/1250 [==============================] - 97s 78ms/step - loss: 0.5023 - accuracy: 0.8246 - val_loss: 0.7565 - val_accuracy: 0.7602\n",
      "Epoch 12/20\n",
      "1250/1250 [==============================] - 98s 78ms/step - loss: 0.4973 - accuracy: 0.8270 - val_loss: 0.7397 - val_accuracy: 0.7593\n",
      "Epoch 13/20\n",
      "1250/1250 [==============================] - 103s 83ms/step - loss: 0.4944 - accuracy: 0.8269 - val_loss: 0.7490 - val_accuracy: 0.7624\n",
      "Epoch 14/20\n",
      "1250/1250 [==============================] - 107s 86ms/step - loss: 0.4887 - accuracy: 0.8293 - val_loss: 0.7515 - val_accuracy: 0.7556\n",
      "Epoch 15/20\n",
      "1250/1250 [==============================] - 109s 87ms/step - loss: 0.4912 - accuracy: 0.8295 - val_loss: 0.7530 - val_accuracy: 0.7631\n",
      "Epoch 16/20\n",
      "1250/1250 [==============================] - 99s 79ms/step - loss: 0.4845 - accuracy: 0.8320 - val_loss: 0.7322 - val_accuracy: 0.7578\n",
      "Epoch 17/20\n",
      "1250/1250 [==============================] - 101s 81ms/step - loss: 0.4772 - accuracy: 0.8331 - val_loss: 0.7481 - val_accuracy: 0.7685\n",
      "Epoch 18/20\n",
      "1250/1250 [==============================] - 104s 83ms/step - loss: 0.4693 - accuracy: 0.8333 - val_loss: 0.7475 - val_accuracy: 0.7631\n",
      "Epoch 19/20\n",
      "1250/1250 [==============================] - 106s 85ms/step - loss: 0.4714 - accuracy: 0.8350 - val_loss: 0.7572 - val_accuracy: 0.7619\n",
      "Epoch 20/20\n",
      "1250/1250 [==============================] - 102s 82ms/step - loss: 0.4700 - accuracy: 0.8370 - val_loss: 0.8321 - val_accuracy: 0.7379\n"
     ]
    },
    {
     "data": {
      "text/plain": [
       "<keras.callbacks.History at 0x7f76f3b08150>"
      ]
     },
     "execution_count": 18,
     "metadata": {},
     "output_type": "execute_result"
    }
   ],
   "source": [
    "cnn6.fit(SubX_train, Suby_train, validation_data = (X_validation, y_validation), epochs = 20)\n"
   ]
  },
  {
   "cell_type": "code",
   "execution_count": 19,
   "metadata": {
    "colab": {
     "base_uri": "https://localhost:8080/"
    },
    "id": "Z4YEmdEyRpvm",
    "outputId": "d32d63de-d330-4778-9ec2-318aad1a5abd"
   },
   "outputs": [
    {
     "name": "stdout",
     "output_type": "stream",
     "text": [
      "313/313 [==============================] - 6s 19ms/step - loss: 0.8317 - accuracy: 0.7369\n"
     ]
    },
    {
     "data": {
      "text/plain": [
       "[0.8317435383796692, 0.7368999719619751]"
      ]
     },
     "execution_count": 19,
     "metadata": {},
     "output_type": "execute_result"
    }
   ],
   "source": [
    "cnn6.evaluate(X_test, y_test)"
   ]
  },
  {
   "cell_type": "code",
   "execution_count": null,
   "metadata": {
    "id": "C5cldxLlZqQ0"
   },
   "outputs": [],
   "source": []
  }
 ],
 "metadata": {
  "colab": {
   "collapsed_sections": [],
   "name": "Assignment7.ipynb",
   "provenance": []
  },
  "kernelspec": {
   "display_name": "Python 3 (ipykernel)",
   "language": "python",
   "name": "python3"
  },
  "language_info": {
   "codemirror_mode": {
    "name": "ipython",
    "version": 3
   },
   "file_extension": ".py",
   "mimetype": "text/x-python",
   "name": "python",
   "nbconvert_exporter": "python",
   "pygments_lexer": "ipython3",
   "version": "3.9.7"
  }
 },
 "nbformat": 4,
 "nbformat_minor": 1
}
